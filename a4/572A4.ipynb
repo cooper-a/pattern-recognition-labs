{
  "cells": [
    {
      "cell_type": "code",
      "execution_count": null,
      "metadata": {
        "colab": {
          "base_uri": "https://localhost:8080/"
        },
        "id": "O6mfef27iU1b",
        "outputId": "734baad9-ec03-44dd-cedf-c67b07e2a81a"
      },
      "outputs": [
        {
          "name": "stdout",
          "output_type": "stream",
          "text": [
            "Looking in indexes: https://pypi.org/simple, https://us-python.pkg.dev/colab-wheels/public/simple/\n",
            "Requirement already satisfied: torch in /usr/local/lib/python3.7/dist-packages (1.12.1+cu113)\n",
            "Requirement already satisfied: torchvision in /usr/local/lib/python3.7/dist-packages (0.13.1+cu113)\n",
            "Requirement already satisfied: torchaudio in /usr/local/lib/python3.7/dist-packages (0.12.1+cu113)\n",
            "Requirement already satisfied: typing-extensions in /usr/local/lib/python3.7/dist-packages (from torch) (4.1.1)\n",
            "Requirement already satisfied: numpy in /usr/local/lib/python3.7/dist-packages (from torchvision) (1.21.6)\n",
            "Requirement already satisfied: requests in /usr/local/lib/python3.7/dist-packages (from torchvision) (2.23.0)\n",
            "Requirement already satisfied: pillow!=8.3.*,>=5.3.0 in /usr/local/lib/python3.7/dist-packages (from torchvision) (7.1.2)\n",
            "Requirement already satisfied: urllib3!=1.25.0,!=1.25.1,<1.26,>=1.21.1 in /usr/local/lib/python3.7/dist-packages (from requests->torchvision) (1.24.3)\n",
            "Requirement already satisfied: chardet<4,>=3.0.2 in /usr/local/lib/python3.7/dist-packages (from requests->torchvision) (3.0.4)\n",
            "Requirement already satisfied: certifi>=2017.4.17 in /usr/local/lib/python3.7/dist-packages (from requests->torchvision) (2022.9.24)\n",
            "Requirement already satisfied: idna<3,>=2.5 in /usr/local/lib/python3.7/dist-packages (from requests->torchvision) (2.10)\n",
            "Looking in indexes: https://pypi.org/simple, https://us-python.pkg.dev/colab-wheels/public/simple/\n",
            "Requirement already satisfied: tqdm in /usr/local/lib/python3.7/dist-packages (4.64.1)\n",
            "Looking in indexes: https://pypi.org/simple, https://us-python.pkg.dev/colab-wheels/public/simple/\n",
            "Requirement already satisfied: matplotlib in /usr/local/lib/python3.7/dist-packages (3.2.2)\n",
            "Requirement already satisfied: numpy>=1.11 in /usr/local/lib/python3.7/dist-packages (from matplotlib) (1.21.6)\n",
            "Requirement already satisfied: kiwisolver>=1.0.1 in /usr/local/lib/python3.7/dist-packages (from matplotlib) (1.4.4)\n",
            "Requirement already satisfied: pyparsing!=2.0.4,!=2.1.2,!=2.1.6,>=2.0.1 in /usr/local/lib/python3.7/dist-packages (from matplotlib) (3.0.9)\n",
            "Requirement already satisfied: cycler>=0.10 in /usr/local/lib/python3.7/dist-packages (from matplotlib) (0.11.0)\n",
            "Requirement already satisfied: python-dateutil>=2.1 in /usr/local/lib/python3.7/dist-packages (from matplotlib) (2.8.2)\n",
            "Requirement already satisfied: typing-extensions in /usr/local/lib/python3.7/dist-packages (from kiwisolver>=1.0.1->matplotlib) (4.1.1)\n",
            "Requirement already satisfied: six>=1.5 in /usr/local/lib/python3.7/dist-packages (from python-dateutil>=2.1->matplotlib) (1.15.0)\n"
          ]
        }
      ],
      "source": [
        "!pip install torch torchvision torchaudio\n",
        "!pip install tqdm\n",
        "!pip install matplotlib"
      ]
    },
    {
      "cell_type": "code",
      "execution_count": null,
      "metadata": {
        "id": "z-lDcMI3uTIp"
      },
      "outputs": [],
      "source": [
        "import torch\n",
        "import torch.nn as nn\n",
        "import torch.utils.data as data\n",
        "import torchvision.datasets as datasets\n",
        "import torchvision.transforms\n",
        "import json\n",
        "import pathlib\n",
        "import tqdm as tqdm\n",
        "import matplotlib.pyplot as plt\n",
        "import time\n",
        "from google.colab import files\n",
        "\n",
        "\n",
        "class Net(nn.Module):\n",
        "    \"\"\"\"\n",
        "    Implement the VGG-11 model\n",
        "    \"\"\"\n",
        "    def __init__(self):\n",
        "        super().__init__()\n",
        "\n",
        "        self.conv_layers = nn.Sequential(\n",
        "            nn.Conv2d(1, 64, kernel_size=3, padding=1),\n",
        "            nn.BatchNorm2d(64),\n",
        "            nn.ReLU(),\n",
        "            # nn.Sigmoid(),\n",
        "            nn.MaxPool2d(kernel_size=2, stride=2),\n",
        "            nn.Conv2d(64, 128, kernel_size=3, padding=1),\n",
        "            nn.BatchNorm2d(128),\n",
        "            nn.ReLU(),\n",
        "            # nn.Sigmoid(),\n",
        "            nn.MaxPool2d(kernel_size=2, stride=2),\n",
        "            nn.Conv2d(128, 256, kernel_size=3, padding=1),\n",
        "            nn.BatchNorm2d(256),\n",
        "            nn.ReLU(),\n",
        "            # nn.Sigmoid(),\n",
        "            nn.Conv2d(256, 256, kernel_size=3, padding=1),\n",
        "            nn.BatchNorm2d(256),\n",
        "            nn.ReLU(),\n",
        "            # nn.Sigmoid(),\n",
        "            nn.MaxPool2d(kernel_size=2, stride=2),\n",
        "            nn.Conv2d(256, 512, kernel_size=3, padding=1),\n",
        "            nn.BatchNorm2d(512),\n",
        "            nn.ReLU(),\n",
        "            # nn.Sigmoid(),\n",
        "            nn.Conv2d(512, 512, kernel_size=3, padding=1),\n",
        "            nn.BatchNorm2d(512),\n",
        "            nn.ReLU(),\n",
        "            # nn.Sigmoid(),\n",
        "            nn.MaxPool2d(kernel_size=2, stride=2),\n",
        "            nn.Conv2d(512, 512, kernel_size=3, padding=1),\n",
        "            nn.BatchNorm2d(512),\n",
        "            nn.ReLU(),\n",
        "            # nn.Sigmoid(),\n",
        "            nn.Conv2d(512, 512, kernel_size=3, padding=1),\n",
        "            nn.BatchNorm2d(512),\n",
        "            nn.ReLU(),\n",
        "            # nn.Sigmoid(),\n",
        "            nn.MaxPool2d(kernel_size=2, stride=2)\n",
        "        )\n",
        "\n",
        "        self.linear_layers = nn.Sequential(\n",
        "            nn.Linear(512, 4096),\n",
        "            nn.ReLU(),\n",
        "            nn.Dropout(0.5),\n",
        "            nn.Linear(4096, 4096),\n",
        "            nn.ReLU(),\n",
        "            nn.Dropout(0.5),\n",
        "            nn.Linear(4096, 10)\n",
        "        )\n",
        "    def forward(self, x):\n",
        "        x = self.conv_layers(x)\n",
        "        x = torch.flatten(x, 1)\n",
        "        x = self.linear_layers(x)\n",
        "        return x\n",
        "\n",
        "class SigmoidNet(nn.Module):\n",
        "    \"\"\"\"\n",
        "    Implement the VGG-11 model\n",
        "    \"\"\"\n",
        "    def __init__(self):\n",
        "        super().__init__()\n",
        "\n",
        "        self.conv_layers = nn.Sequential(\n",
        "            nn.Conv2d(1, 64, kernel_size=3, padding=1),\n",
        "            nn.BatchNorm2d(64),\n",
        "            nn.Sigmoid(),\n",
        "            nn.MaxPool2d(kernel_size=2, stride=2),\n",
        "            nn.Conv2d(64, 128, kernel_size=3, padding=1),\n",
        "            nn.BatchNorm2d(128),\n",
        "            nn.Sigmoid(),\n",
        "            nn.MaxPool2d(kernel_size=2, stride=2),\n",
        "            nn.Conv2d(128, 256, kernel_size=3, padding=1),\n",
        "            nn.BatchNorm2d(256),\n",
        "            nn.Sigmoid(),\n",
        "            nn.Conv2d(256, 256, kernel_size=3, padding=1),\n",
        "            nn.BatchNorm2d(256),\n",
        "            nn.Sigmoid(),\n",
        "            nn.MaxPool2d(kernel_size=2, stride=2),\n",
        "            nn.Conv2d(256, 512, kernel_size=3, padding=1),\n",
        "            nn.BatchNorm2d(512),\n",
        "            nn.Sigmoid(),\n",
        "            nn.Conv2d(512, 512, kernel_size=3, padding=1),\n",
        "            nn.BatchNorm2d(512),\n",
        "            nn.Sigmoid(),\n",
        "            nn.MaxPool2d(kernel_size=2, stride=2),\n",
        "            nn.Conv2d(512, 512, kernel_size=3, padding=1),\n",
        "            nn.BatchNorm2d(512),\n",
        "            nn.Sigmoid(),\n",
        "            nn.Conv2d(512, 512, kernel_size=3, padding=1),\n",
        "            nn.BatchNorm2d(512),\n",
        "            nn.Sigmoid(),\n",
        "            nn.MaxPool2d(kernel_size=2, stride=2)\n",
        "        )\n",
        "\n",
        "        self.linear_layers = nn.Sequential(\n",
        "            nn.Linear(512, 4096),\n",
        "            nn.Sigmoid(),\n",
        "            nn.Dropout(0.5),\n",
        "            nn.Linear(4096, 4096),\n",
        "            nn.Sigmoid(),\n",
        "            nn.Dropout(0.5),\n",
        "            nn.Linear(4096, 10)\n",
        "        )\n",
        "    def forward(self, x):\n",
        "        x = self.conv_layers(x)\n",
        "        x = torch.flatten(x, 1)\n",
        "        x = self.linear_layers(x)\n",
        "        return x\n",
        "\n",
        "class NoDropOutNet(nn.Module):\n",
        "    \"\"\"\"\n",
        "    Implement the VGG-11 model\n",
        "    \"\"\"\n",
        "    def __init__(self):\n",
        "        super().__init__()\n",
        "\n",
        "        self.conv_layers = nn.Sequential(\n",
        "            nn.Conv2d(1, 64, kernel_size=3, padding=1),\n",
        "            nn.BatchNorm2d(64),\n",
        "            nn.ReLU(),\n",
        "            # nn.Sigmoid(),\n",
        "            nn.MaxPool2d(kernel_size=2, stride=2),\n",
        "            nn.Conv2d(64, 128, kernel_size=3, padding=1),\n",
        "            nn.BatchNorm2d(128),\n",
        "            nn.ReLU(),\n",
        "            # nn.Sigmoid(),\n",
        "            nn.MaxPool2d(kernel_size=2, stride=2),\n",
        "            nn.Conv2d(128, 256, kernel_size=3, padding=1),\n",
        "            nn.BatchNorm2d(256),\n",
        "            nn.ReLU(),\n",
        "            # nn.Sigmoid(),\n",
        "            nn.Conv2d(256, 256, kernel_size=3, padding=1),\n",
        "            nn.BatchNorm2d(256),\n",
        "            nn.ReLU(),\n",
        "            # nn.Sigmoid(),\n",
        "            nn.MaxPool2d(kernel_size=2, stride=2),\n",
        "            nn.Conv2d(256, 512, kernel_size=3, padding=1),\n",
        "            nn.BatchNorm2d(512),\n",
        "            nn.ReLU(),\n",
        "            # nn.Sigmoid(),\n",
        "            nn.Conv2d(512, 512, kernel_size=3, padding=1),\n",
        "            nn.BatchNorm2d(512),\n",
        "            nn.ReLU(),\n",
        "            # nn.Sigmoid(),\n",
        "            nn.MaxPool2d(kernel_size=2, stride=2),\n",
        "            nn.Conv2d(512, 512, kernel_size=3, padding=1),\n",
        "            nn.BatchNorm2d(512),\n",
        "            nn.ReLU(),\n",
        "            # nn.Sigmoid(),\n",
        "            nn.Conv2d(512, 512, kernel_size=3, padding=1),\n",
        "            nn.BatchNorm2d(512),\n",
        "            nn.ReLU(),\n",
        "            # nn.Sigmoid(),\n",
        "            nn.MaxPool2d(kernel_size=2, stride=2)\n",
        "        )\n",
        "\n",
        "        self.linear_layers = nn.Sequential(\n",
        "            nn.Linear(512, 4096),\n",
        "            nn.ReLU(),\n",
        "            nn.Linear(4096, 4096),\n",
        "            nn.ReLU(),\n",
        "            nn.Linear(4096, 10)\n",
        "        )\n",
        "    def forward(self, x):\n",
        "        x = self.conv_layers(x)\n",
        "        x = torch.flatten(x, 1)\n",
        "        x = self.linear_layers(x)\n",
        "        return x\n",
        "\n",
        "def plot_results(results, path, filename, title):\n",
        "    plt.plot(results['train_accuracy'], '-o', label='train accuracy')\n",
        "    plt.plot(results['test_accuracy'], '-o', label='test accuracy')\n",
        "    plt.title(title + ' Accuracy')\n",
        "    plt.xlabel('Epoch')\n",
        "    plt.ylabel('Accuracy')\n",
        "    plt.legend()\n",
        "    plt.savefig(path + 'accuracy_' + filename)\n",
        "    plt.show()\n",
        "\n",
        "\n",
        "    plt.plot(results['train_loss'], '-o', label='train loss')\n",
        "    plt.plot(results['test_loss'], '-o', label='test loss')\n",
        "    plt.title(title + ' Loss')\n",
        "    plt.xlabel('Epoch')\n",
        "    plt.ylabel('Loss')\n",
        "    plt.legend()\n",
        "    plt.savefig(path + 'loss_' + filename)\n",
        "    plt.show()\n",
        "\n",
        "\n",
        "def run_metrics(model, loader, device, criterion=None):\n",
        "    correct = 0\n",
        "    total = 0\n",
        "    running_loss = 0.0\n",
        "    with torch.no_grad():\n",
        "        for x, y in loader:\n",
        "            x = x.to(device)\n",
        "            y = y.to(device)\n",
        "            output = model(x)\n",
        "            _, predicted = torch.max(output.data, 1)\n",
        "            total += y.size(0)\n",
        "            correct += (predicted == y).sum().item()\n",
        "            # compute the loss too\n",
        "            if criterion is not None:\n",
        "                loss = criterion(output, y)\n",
        "                running_loss += loss.item()\n",
        "        average_loss = running_loss / len(loader)\n",
        "        return {'accuracy': correct / total, 'loss': average_loss}\n",
        "\n",
        "def collect_metrics(model, test_loader, device, criterion=None):\n",
        "    model.eval()\n",
        "    metrics_test = run_metrics(model, test_loader, device, criterion=criterion)\n",
        "    if criterion is not None:\n",
        "        print(f\"Test loss: {metrics_test['loss']:.3f}\")\n",
        "    print(f\"Test accuracy: {metrics_test['accuracy'] * 100:.3f}%\")\n",
        "    return metrics_test\n",
        "\n",
        "\n",
        "def train(model, train_loader, test_loader, optimizer, criterion, device, num_epochs):\n",
        "    accuracies_train = []\n",
        "    loss_train = []\n",
        "    accuracies_test = []\n",
        "    loss_test = []\n",
        "    print('Training...')\n",
        "    for epoch in range(num_epochs):\n",
        "        time.sleep(0.01)\n",
        "        model.train()\n",
        "        running_loss = 0.0\n",
        "        correct = 0\n",
        "        for i, (x, y) in enumerate(tqdm.tqdm(train_loader)):\n",
        "            x = x.to(device)\n",
        "            y = y.to(device)\n",
        "\n",
        "            optimizer.zero_grad()\n",
        "            output = model(x)\n",
        "            loss = criterion(output, y)\n",
        "            loss.backward()\n",
        "            optimizer.step()\n",
        "\n",
        "            correct += (output.argmax(dim=1) == y).type(torch.float).sum().item()\n",
        "            running_loss += loss.item()\n",
        "\n",
        "\n",
        "\n",
        "        accuracy = correct / len(train_loader.dataset)\n",
        "        loss = running_loss / len(train_loader)\n",
        "        print(f\"Epoch {epoch + 1} of {num_epochs} - Training loss: {loss:.3f}, train accuracy: {accuracy * 100:.3f}%\")\n",
        "\n",
        "        # test the model\n",
        "        test_results = collect_metrics(model, test_loader, device, criterion)\n",
        "        accuracies_train.append(accuracy)\n",
        "        loss_train.append(loss)\n",
        "        accuracies_test.append(test_results['accuracy'])\n",
        "        loss_test.append(test_results['loss'])\n",
        "        # prevent TQDM from messing up the output\n",
        "\n",
        "    print(\"Finished Training\")\n",
        "    results = {'train_accuracy': accuracies_train, 'train_loss': loss_train, 'test_accuracy': accuracies_test, 'test_loss': loss_test}\n",
        "    return results\n",
        "\n",
        "def store_results(title, results, path):\n",
        "  plot_results(results, path, title + '.png', title='VGG-11')\n",
        "  with open(path + title + '.json', 'w') as fp:\n",
        "      json.dump(results, fp)"
      ]
    },
    {
      "cell_type": "code",
      "execution_count": null,
      "metadata": {
        "colab": {
          "background_save": true,
          "base_uri": "https://localhost:8080/",
          "height": 1000
        },
        "id": "ryymB0Osuldq",
        "outputId": "2e22c1e7-0f84-4393-9048-b37fc7b51edf"
      },
      "outputs": [
        {
          "name": "stdout",
          "output_type": "stream",
          "text": [
            "Training...\n"
          ]
        },
        {
          "name": "stderr",
          "output_type": "stream",
          "text": [
            "100%|██████████| 469/469 [00:24<00:00, 19.41it/s]\n"
          ]
        },
        {
          "name": "stdout",
          "output_type": "stream",
          "text": [
            "Epoch 1 of 20 - Training loss: 0.369, train accuracy: 89.250%\n",
            "Test loss: 0.054\n",
            "Test accuracy: 98.530%\n"
          ]
        },
        {
          "name": "stderr",
          "output_type": "stream",
          "text": [
            "100%|██████████| 469/469 [00:24<00:00, 19.10it/s]\n"
          ]
        },
        {
          "name": "stdout",
          "output_type": "stream",
          "text": [
            "Epoch 2 of 20 - Training loss: 0.068, train accuracy: 98.398%\n",
            "Test loss: 0.054\n",
            "Test accuracy: 98.710%\n"
          ]
        },
        {
          "name": "stderr",
          "output_type": "stream",
          "text": [
            "100%|██████████| 469/469 [00:24<00:00, 19.05it/s]\n"
          ]
        },
        {
          "name": "stdout",
          "output_type": "stream",
          "text": [
            "Epoch 3 of 20 - Training loss: 0.048, train accuracy: 98.892%\n",
            "Test loss: 0.037\n",
            "Test accuracy: 99.050%\n"
          ]
        },
        {
          "name": "stderr",
          "output_type": "stream",
          "text": [
            "100%|██████████| 469/469 [00:24<00:00, 19.22it/s]\n"
          ]
        },
        {
          "name": "stdout",
          "output_type": "stream",
          "text": [
            "Epoch 4 of 20 - Training loss: 0.034, train accuracy: 99.185%\n",
            "Test loss: 0.025\n",
            "Test accuracy: 99.250%\n"
          ]
        },
        {
          "name": "stderr",
          "output_type": "stream",
          "text": [
            "100%|██████████| 469/469 [00:25<00:00, 18.74it/s]\n"
          ]
        },
        {
          "name": "stdout",
          "output_type": "stream",
          "text": [
            "Epoch 5 of 20 - Training loss: 0.028, train accuracy: 99.283%\n",
            "Test loss: 0.025\n",
            "Test accuracy: 99.360%\n"
          ]
        },
        {
          "name": "stderr",
          "output_type": "stream",
          "text": [
            "100%|██████████| 469/469 [00:25<00:00, 18.70it/s]\n"
          ]
        },
        {
          "name": "stdout",
          "output_type": "stream",
          "text": [
            "Epoch 6 of 20 - Training loss: 0.023, train accuracy: 99.398%\n",
            "Test loss: 0.035\n",
            "Test accuracy: 99.200%\n"
          ]
        },
        {
          "name": "stderr",
          "output_type": "stream",
          "text": [
            "100%|██████████| 469/469 [00:24<00:00, 19.00it/s]\n"
          ]
        },
        {
          "name": "stdout",
          "output_type": "stream",
          "text": [
            "Epoch 7 of 20 - Training loss: 0.020, train accuracy: 99.480%\n",
            "Test loss: 0.033\n",
            "Test accuracy: 99.090%\n"
          ]
        },
        {
          "name": "stderr",
          "output_type": "stream",
          "text": [
            "100%|██████████| 469/469 [00:25<00:00, 18.69it/s]\n"
          ]
        },
        {
          "name": "stdout",
          "output_type": "stream",
          "text": [
            "Epoch 8 of 20 - Training loss: 0.016, train accuracy: 99.623%\n",
            "Test loss: 0.031\n",
            "Test accuracy: 99.270%\n"
          ]
        },
        {
          "name": "stderr",
          "output_type": "stream",
          "text": [
            "100%|██████████| 469/469 [00:25<00:00, 18.70it/s]\n"
          ]
        },
        {
          "name": "stdout",
          "output_type": "stream",
          "text": [
            "Epoch 9 of 20 - Training loss: 0.014, train accuracy: 99.602%\n",
            "Test loss: 0.036\n",
            "Test accuracy: 99.090%\n"
          ]
        },
        {
          "name": "stderr",
          "output_type": "stream",
          "text": [
            "100%|██████████| 469/469 [00:25<00:00, 18.28it/s]\n"
          ]
        },
        {
          "name": "stdout",
          "output_type": "stream",
          "text": [
            "Epoch 10 of 20 - Training loss: 0.014, train accuracy: 99.640%\n",
            "Test loss: 0.033\n",
            "Test accuracy: 99.200%\n"
          ]
        },
        {
          "name": "stderr",
          "output_type": "stream",
          "text": [
            "100%|██████████| 469/469 [00:25<00:00, 18.23it/s]\n"
          ]
        },
        {
          "name": "stdout",
          "output_type": "stream",
          "text": [
            "Epoch 11 of 20 - Training loss: 0.011, train accuracy: 99.713%\n",
            "Test loss: 0.025\n",
            "Test accuracy: 99.420%\n"
          ]
        },
        {
          "name": "stderr",
          "output_type": "stream",
          "text": [
            "100%|██████████| 469/469 [00:25<00:00, 18.37it/s]\n"
          ]
        },
        {
          "name": "stdout",
          "output_type": "stream",
          "text": [
            "Epoch 12 of 20 - Training loss: 0.010, train accuracy: 99.730%\n",
            "Test loss: 0.023\n",
            "Test accuracy: 99.460%\n"
          ]
        },
        {
          "name": "stderr",
          "output_type": "stream",
          "text": [
            "100%|██████████| 469/469 [00:25<00:00, 18.66it/s]\n"
          ]
        },
        {
          "name": "stdout",
          "output_type": "stream",
          "text": [
            "Epoch 13 of 20 - Training loss: 0.006, train accuracy: 99.827%\n",
            "Test loss: 0.027\n",
            "Test accuracy: 99.290%\n"
          ]
        },
        {
          "name": "stderr",
          "output_type": "stream",
          "text": [
            "100%|██████████| 469/469 [00:24<00:00, 19.04it/s]\n"
          ]
        },
        {
          "name": "stdout",
          "output_type": "stream",
          "text": [
            "Epoch 14 of 20 - Training loss: 0.006, train accuracy: 99.825%\n",
            "Test loss: 0.021\n",
            "Test accuracy: 99.490%\n"
          ]
        },
        {
          "name": "stderr",
          "output_type": "stream",
          "text": [
            "100%|██████████| 469/469 [00:25<00:00, 18.65it/s]\n"
          ]
        },
        {
          "name": "stdout",
          "output_type": "stream",
          "text": [
            "Epoch 15 of 20 - Training loss: 0.006, train accuracy: 99.842%\n",
            "Test loss: 0.025\n",
            "Test accuracy: 99.480%\n"
          ]
        },
        {
          "name": "stderr",
          "output_type": "stream",
          "text": [
            "100%|██████████| 469/469 [00:25<00:00, 18.69it/s]\n"
          ]
        },
        {
          "name": "stdout",
          "output_type": "stream",
          "text": [
            "Epoch 16 of 20 - Training loss: 0.006, train accuracy: 99.843%\n",
            "Test loss: 0.026\n",
            "Test accuracy: 99.450%\n"
          ]
        },
        {
          "name": "stderr",
          "output_type": "stream",
          "text": [
            "100%|██████████| 469/469 [00:24<00:00, 19.01it/s]\n"
          ]
        },
        {
          "name": "stdout",
          "output_type": "stream",
          "text": [
            "Epoch 17 of 20 - Training loss: 0.008, train accuracy: 99.803%\n",
            "Test loss: 0.030\n",
            "Test accuracy: 99.410%\n"
          ]
        },
        {
          "name": "stderr",
          "output_type": "stream",
          "text": [
            "100%|██████████| 469/469 [00:24<00:00, 18.95it/s]\n"
          ]
        },
        {
          "name": "stdout",
          "output_type": "stream",
          "text": [
            "Epoch 18 of 20 - Training loss: 0.004, train accuracy: 99.885%\n",
            "Test loss: 0.027\n",
            "Test accuracy: 99.430%\n"
          ]
        },
        {
          "name": "stderr",
          "output_type": "stream",
          "text": [
            "100%|██████████| 469/469 [00:25<00:00, 18.69it/s]\n"
          ]
        },
        {
          "name": "stdout",
          "output_type": "stream",
          "text": [
            "Epoch 19 of 20 - Training loss: 0.007, train accuracy: 99.815%\n",
            "Test loss: 0.032\n",
            "Test accuracy: 99.380%\n"
          ]
        },
        {
          "name": "stderr",
          "output_type": "stream",
          "text": [
            "100%|██████████| 469/469 [00:24<00:00, 18.76it/s]\n"
          ]
        },
        {
          "name": "stdout",
          "output_type": "stream",
          "text": [
            "Epoch 20 of 20 - Training loss: 0.005, train accuracy: 99.880%\n",
            "Test loss: 0.027\n",
            "Test accuracy: 99.420%\n",
            "Finished Training\n"
          ]
        },
        {
          "data": {
            "image/png": "[encoded data removed]",
            "text/plain": [
              "<Figure size 432x288 with 1 Axes>"
            ]
          },
          "metadata": {},
          "output_type": "display_data"
        },
        {
          "data": {
            "image/png": "[encoded data removed]",
            "text/plain": [
              "<Figure size 432x288 with 1 Axes>"
            ]
          },
          "metadata": {},
          "output_type": "display_data"
        },
        {
          "name": "stdout",
          "output_type": "stream",
          "text": [
            "Training...\n"
          ]
        },
        {
          "name": "stderr",
          "output_type": "stream",
          "text": [
            "100%|██████████| 469/469 [00:25<00:00, 18.72it/s]\n"
          ]
        },
        {
          "name": "stdout",
          "output_type": "stream",
          "text": [
            "Epoch 1 of 20 - Training loss: 0.144, train accuracy: 95.602%\n",
            "Test loss: 0.026\n",
            "Test accuracy: 99.160%\n"
          ]
        },
        {
          "name": "stderr",
          "output_type": "stream",
          "text": [
            "100%|██████████| 469/469 [00:25<00:00, 18.49it/s]\n"
          ]
        },
        {
          "name": "stdout",
          "output_type": "stream",
          "text": [
            "Epoch 2 of 20 - Training loss: 0.032, train accuracy: 99.037%\n",
            "Test loss: 0.032\n",
            "Test accuracy: 98.950%\n"
          ]
        },
        {
          "name": "stderr",
          "output_type": "stream",
          "text": [
            "100%|██████████| 469/469 [00:25<00:00, 18.56it/s]\n"
          ]
        },
        {
          "name": "stdout",
          "output_type": "stream",
          "text": [
            "Epoch 3 of 20 - Training loss: 0.021, train accuracy: 99.375%\n",
            "Test loss: 0.019\n",
            "Test accuracy: 99.440%\n"
          ]
        },
        {
          "name": "stderr",
          "output_type": "stream",
          "text": [
            "100%|██████████| 469/469 [00:25<00:00, 18.57it/s]\n"
          ]
        },
        {
          "name": "stdout",
          "output_type": "stream",
          "text": [
            "Epoch 4 of 20 - Training loss: 0.016, train accuracy: 99.505%\n",
            "Test loss: 0.023\n",
            "Test accuracy: 99.300%\n"
          ]
        },
        {
          "name": "stderr",
          "output_type": "stream",
          "text": [
            "100%|██████████| 469/469 [00:25<00:00, 18.54it/s]\n"
          ]
        },
        {
          "name": "stdout",
          "output_type": "stream",
          "text": [
            "Epoch 5 of 20 - Training loss: 0.010, train accuracy: 99.717%\n",
            "Test loss: 0.033\n",
            "Test accuracy: 99.300%\n"
          ]
        },
        {
          "name": "stderr",
          "output_type": "stream",
          "text": [
            "100%|██████████| 469/469 [00:24<00:00, 18.78it/s]\n"
          ]
        },
        {
          "name": "stdout",
          "output_type": "stream",
          "text": [
            "Epoch 6 of 20 - Training loss: 0.009, train accuracy: 99.740%\n",
            "Test loss: 0.027\n",
            "Test accuracy: 99.250%\n"
          ]
        },
        {
          "name": "stderr",
          "output_type": "stream",
          "text": [
            "100%|██████████| 469/469 [00:25<00:00, 18.59it/s]\n"
          ]
        },
        {
          "name": "stdout",
          "output_type": "stream",
          "text": [
            "Epoch 7 of 20 - Training loss: 0.007, train accuracy: 99.770%\n",
            "Test loss: 0.025\n",
            "Test accuracy: 99.280%\n"
          ]
        },
        {
          "name": "stderr",
          "output_type": "stream",
          "text": [
            "100%|██████████| 469/469 [00:25<00:00, 18.59it/s]\n"
          ]
        },
        {
          "name": "stdout",
          "output_type": "stream",
          "text": [
            "Epoch 8 of 20 - Training loss: 0.006, train accuracy: 99.830%\n",
            "Test loss: 0.022\n",
            "Test accuracy: 99.450%\n"
          ]
        },
        {
          "name": "stderr",
          "output_type": "stream",
          "text": [
            "100%|██████████| 469/469 [00:24<00:00, 18.93it/s]\n"
          ]
        },
        {
          "name": "stdout",
          "output_type": "stream",
          "text": [
            "Epoch 9 of 20 - Training loss: 0.005, train accuracy: 99.832%\n",
            "Test loss: 0.022\n",
            "Test accuracy: 99.460%\n"
          ]
        },
        {
          "name": "stderr",
          "output_type": "stream",
          "text": [
            "100%|██████████| 469/469 [00:25<00:00, 18.61it/s]\n"
          ]
        },
        {
          "name": "stdout",
          "output_type": "stream",
          "text": [
            "Epoch 10 of 20 - Training loss: 0.004, train accuracy: 99.862%\n",
            "Test loss: 0.024\n",
            "Test accuracy: 99.410%\n"
          ]
        },
        {
          "name": "stderr",
          "output_type": "stream",
          "text": [
            "100%|██████████| 469/469 [00:25<00:00, 18.65it/s]\n"
          ]
        },
        {
          "name": "stdout",
          "output_type": "stream",
          "text": [
            "Epoch 11 of 20 - Training loss: 0.002, train accuracy: 99.912%\n",
            "Test loss: 0.024\n",
            "Test accuracy: 99.380%\n"
          ]
        },
        {
          "name": "stderr",
          "output_type": "stream",
          "text": [
            "100%|██████████| 469/469 [00:24<00:00, 18.94it/s]\n"
          ]
        },
        {
          "name": "stdout",
          "output_type": "stream",
          "text": [
            "Epoch 12 of 20 - Training loss: 0.001, train accuracy: 99.952%\n",
            "Test loss: 0.024\n",
            "Test accuracy: 99.430%\n"
          ]
        },
        {
          "name": "stderr",
          "output_type": "stream",
          "text": [
            "100%|██████████| 469/469 [00:25<00:00, 18.65it/s]\n"
          ]
        },
        {
          "name": "stdout",
          "output_type": "stream",
          "text": [
            "Epoch 13 of 20 - Training loss: 0.002, train accuracy: 99.942%\n",
            "Test loss: 0.019\n",
            "Test accuracy: 99.570%\n"
          ]
        },
        {
          "name": "stderr",
          "output_type": "stream",
          "text": [
            "100%|██████████| 469/469 [00:25<00:00, 18.55it/s]\n"
          ]
        },
        {
          "name": "stdout",
          "output_type": "stream",
          "text": [
            "Epoch 14 of 20 - Training loss: 0.001, train accuracy: 99.962%\n",
            "Test loss: 0.021\n",
            "Test accuracy: 99.500%\n"
          ]
        },
        {
          "name": "stderr",
          "output_type": "stream",
          "text": [
            "100%|██████████| 469/469 [00:25<00:00, 18.73it/s]\n"
          ]
        },
        {
          "name": "stdout",
          "output_type": "stream",
          "text": [
            "Epoch 15 of 20 - Training loss: 0.003, train accuracy: 99.910%\n",
            "Test loss: 0.022\n",
            "Test accuracy: 99.480%\n"
          ]
        },
        {
          "name": "stderr",
          "output_type": "stream",
          "text": [
            "100%|██████████| 469/469 [00:24<00:00, 18.86it/s]\n"
          ]
        },
        {
          "name": "stdout",
          "output_type": "stream",
          "text": [
            "Epoch 16 of 20 - Training loss: 0.001, train accuracy: 99.988%\n",
            "Test loss: 0.023\n",
            "Test accuracy: 99.470%\n"
          ]
        },
        {
          "name": "stderr",
          "output_type": "stream",
          "text": [
            "100%|██████████| 469/469 [00:25<00:00, 18.60it/s]\n"
          ]
        },
        {
          "name": "stdout",
          "output_type": "stream",
          "text": [
            "Epoch 17 of 20 - Training loss: 0.000, train accuracy: 99.987%\n",
            "Test loss: 0.025\n",
            "Test accuracy: 99.460%\n"
          ]
        },
        {
          "name": "stderr",
          "output_type": "stream",
          "text": [
            "100%|██████████| 469/469 [00:25<00:00, 18.60it/s]\n"
          ]
        },
        {
          "name": "stdout",
          "output_type": "stream",
          "text": [
            "Epoch 18 of 20 - Training loss: 0.001, train accuracy: 99.983%\n",
            "Test loss: 0.021\n",
            "Test accuracy: 99.520%\n"
          ]
        },
        {
          "name": "stderr",
          "output_type": "stream",
          "text": [
            "100%|██████████| 469/469 [00:24<00:00, 18.81it/s]\n"
          ]
        },
        {
          "name": "stdout",
          "output_type": "stream",
          "text": [
            "Epoch 19 of 20 - Training loss: 0.000, train accuracy: 100.000%\n",
            "Test loss: 0.021\n",
            "Test accuracy: 99.530%\n"
          ]
        },
        {
          "name": "stderr",
          "output_type": "stream",
          "text": [
            "100%|██████████| 469/469 [00:25<00:00, 18.51it/s]\n"
          ]
        },
        {
          "name": "stdout",
          "output_type": "stream",
          "text": [
            "Epoch 20 of 20 - Training loss: 0.000, train accuracy: 100.000%\n",
            "Test loss: 0.021\n",
            "Test accuracy: 99.570%\n",
            "Finished Training\n"
          ]
        },
        {
          "data": {
            "image/png": "[encoded data removed]",
            "text/plain": [
              "<Figure size 432x288 with 1 Axes>"
            ]
          },
          "metadata": {},
          "output_type": "display_data"
        },
        {
          "data": {
            "image/png": "[encoded data removed]",
            "text/plain": [
              "<Figure size 432x288 with 1 Axes>"
            ]
          },
          "metadata": {},
          "output_type": "display_data"
        },
        {
          "name": "stdout",
          "output_type": "stream",
          "text": [
            "Training...\n"
          ]
        },
        {
          "name": "stderr",
          "output_type": "stream",
          "text": [
            "100%|██████████| 469/469 [00:27<00:00, 17.26it/s]\n"
          ]
        },
        {
          "name": "stdout",
          "output_type": "stream",
          "text": [
            "Epoch 1 of 20 - Training loss: 5536633.687, train accuracy: 10.232%\n",
            "Test loss: 2.324\n",
            "Test accuracy: 9.740%\n"
          ]
        },
        {
          "name": "stderr",
          "output_type": "stream",
          "text": [
            "100%|██████████| 469/469 [00:27<00:00, 17.37it/s]\n"
          ]
        },
        {
          "name": "stdout",
          "output_type": "stream",
          "text": [
            "Epoch 2 of 20 - Training loss: 2.343, train accuracy: 10.160%\n",
            "Test loss: 2.414\n",
            "Test accuracy: 9.820%\n"
          ]
        },
        {
          "name": "stderr",
          "output_type": "stream",
          "text": [
            "100%|██████████| 469/469 [00:26<00:00, 17.60it/s]\n"
          ]
        },
        {
          "name": "stdout",
          "output_type": "stream",
          "text": [
            "Epoch 3 of 20 - Training loss: 2.351, train accuracy: 10.048%\n",
            "Test loss: 2.361\n",
            "Test accuracy: 10.320%\n"
          ]
        },
        {
          "name": "stderr",
          "output_type": "stream",
          "text": [
            "100%|██████████| 469/469 [00:27<00:00, 17.35it/s]\n"
          ]
        },
        {
          "name": "stdout",
          "output_type": "stream",
          "text": [
            "Epoch 4 of 20 - Training loss: 2.351, train accuracy: 10.083%\n",
            "Test loss: 2.368\n",
            "Test accuracy: 10.320%\n"
          ]
        },
        {
          "name": "stderr",
          "output_type": "stream",
          "text": [
            "100%|██████████| 469/469 [00:27<00:00, 17.26it/s]\n"
          ]
        },
        {
          "name": "stdout",
          "output_type": "stream",
          "text": [
            "Epoch 5 of 20 - Training loss: 2.348, train accuracy: 10.105%\n",
            "Test loss: 2.368\n",
            "Test accuracy: 10.100%\n"
          ]
        },
        {
          "name": "stderr",
          "output_type": "stream",
          "text": [
            "100%|██████████| 469/469 [00:27<00:00, 17.29it/s]\n"
          ]
        },
        {
          "name": "stdout",
          "output_type": "stream",
          "text": [
            "Epoch 6 of 20 - Training loss: 2.348, train accuracy: 10.182%\n",
            "Test loss: 2.370\n",
            "Test accuracy: 9.740%\n"
          ]
        },
        {
          "name": "stderr",
          "output_type": "stream",
          "text": [
            "100%|██████████| 469/469 [00:26<00:00, 17.59it/s]\n"
          ]
        },
        {
          "name": "stdout",
          "output_type": "stream",
          "text": [
            "Epoch 7 of 20 - Training loss: 2.348, train accuracy: 10.282%\n",
            "Test loss: 2.360\n",
            "Test accuracy: 11.350%\n"
          ]
        },
        {
          "name": "stderr",
          "output_type": "stream",
          "text": [
            "100%|██████████| 469/469 [00:27<00:00, 17.34it/s]\n"
          ]
        },
        {
          "name": "stdout",
          "output_type": "stream",
          "text": [
            "Epoch 8 of 20 - Training loss: 2.353, train accuracy: 10.045%\n",
            "Test loss: 2.349\n",
            "Test accuracy: 10.090%\n"
          ]
        },
        {
          "name": "stderr",
          "output_type": "stream",
          "text": [
            "100%|██████████| 469/469 [00:27<00:00, 17.35it/s]\n"
          ]
        },
        {
          "name": "stdout",
          "output_type": "stream",
          "text": [
            "Epoch 9 of 20 - Training loss: 2.353, train accuracy: 10.108%\n",
            "Test loss: 2.422\n",
            "Test accuracy: 9.740%\n"
          ]
        },
        {
          "name": "stderr",
          "output_type": "stream",
          "text": [
            "100%|██████████| 469/469 [00:27<00:00, 17.37it/s]\n"
          ]
        },
        {
          "name": "stdout",
          "output_type": "stream",
          "text": [
            "Epoch 10 of 20 - Training loss: 2.347, train accuracy: 10.235%\n",
            "Test loss: 2.359\n",
            "Test accuracy: 11.350%\n"
          ]
        },
        {
          "name": "stderr",
          "output_type": "stream",
          "text": [
            "100%|██████████| 469/469 [00:26<00:00, 17.58it/s]\n"
          ]
        },
        {
          "name": "stdout",
          "output_type": "stream",
          "text": [
            "Epoch 11 of 20 - Training loss: 2.345, train accuracy: 10.320%\n",
            "Test loss: 2.381\n",
            "Test accuracy: 10.100%\n"
          ]
        },
        {
          "name": "stderr",
          "output_type": "stream",
          "text": [
            "100%|██████████| 469/469 [00:26<00:00, 17.38it/s]\n"
          ]
        },
        {
          "name": "stdout",
          "output_type": "stream",
          "text": [
            "Epoch 12 of 20 - Training loss: 2.349, train accuracy: 10.188%\n",
            "Test loss: 2.327\n",
            "Test accuracy: 10.100%\n"
          ]
        },
        {
          "name": "stderr",
          "output_type": "stream",
          "text": [
            "100%|██████████| 469/469 [00:26<00:00, 17.42it/s]\n"
          ]
        },
        {
          "name": "stdout",
          "output_type": "stream",
          "text": [
            "Epoch 13 of 20 - Training loss: 2.352, train accuracy: 10.187%\n",
            "Test loss: 2.336\n",
            "Test accuracy: 8.920%\n"
          ]
        },
        {
          "name": "stderr",
          "output_type": "stream",
          "text": [
            "100%|██████████| 469/469 [00:26<00:00, 17.39it/s]\n"
          ]
        },
        {
          "name": "stdout",
          "output_type": "stream",
          "text": [
            "Epoch 14 of 20 - Training loss: 2.349, train accuracy: 9.918%\n",
            "Test loss: 2.340\n",
            "Test accuracy: 11.350%\n"
          ]
        },
        {
          "name": "stderr",
          "output_type": "stream",
          "text": [
            "100%|██████████| 469/469 [00:26<00:00, 17.65it/s]\n"
          ]
        },
        {
          "name": "stdout",
          "output_type": "stream",
          "text": [
            "Epoch 15 of 20 - Training loss: 2.347, train accuracy: 10.300%\n",
            "Test loss: 2.341\n",
            "Test accuracy: 9.740%\n"
          ]
        },
        {
          "name": "stderr",
          "output_type": "stream",
          "text": [
            "100%|██████████| 469/469 [00:27<00:00, 17.31it/s]\n"
          ]
        },
        {
          "name": "stdout",
          "output_type": "stream",
          "text": [
            "Epoch 16 of 20 - Training loss: 2.350, train accuracy: 10.175%\n",
            "Test loss: 2.329\n",
            "Test accuracy: 10.280%\n"
          ]
        },
        {
          "name": "stderr",
          "output_type": "stream",
          "text": [
            "100%|██████████| 469/469 [00:27<00:00, 17.30it/s]\n"
          ]
        },
        {
          "name": "stdout",
          "output_type": "stream",
          "text": [
            "Epoch 17 of 20 - Training loss: 2.349, train accuracy: 9.893%\n",
            "Test loss: 2.337\n",
            "Test accuracy: 10.280%\n"
          ]
        },
        {
          "name": "stderr",
          "output_type": "stream",
          "text": [
            "100%|██████████| 469/469 [00:27<00:00, 17.33it/s]\n"
          ]
        },
        {
          "name": "stdout",
          "output_type": "stream",
          "text": [
            "Epoch 18 of 20 - Training loss: 2.348, train accuracy: 10.113%\n",
            "Test loss: 2.348\n",
            "Test accuracy: 8.920%\n"
          ]
        },
        {
          "name": "stderr",
          "output_type": "stream",
          "text": [
            "100%|██████████| 469/469 [00:26<00:00, 17.60it/s]\n"
          ]
        },
        {
          "name": "stdout",
          "output_type": "stream",
          "text": [
            "Epoch 19 of 20 - Training loss: 2.348, train accuracy: 10.015%\n",
            "Test loss: 2.329\n",
            "Test accuracy: 11.350%\n"
          ]
        },
        {
          "name": "stderr",
          "output_type": "stream",
          "text": [
            "100%|██████████| 469/469 [00:26<00:00, 17.37it/s]\n"
          ]
        },
        {
          "name": "stdout",
          "output_type": "stream",
          "text": [
            "Epoch 20 of 20 - Training loss: 2.349, train accuracy: 10.032%\n",
            "Test loss: 2.362\n",
            "Test accuracy: 10.100%\n",
            "Finished Training\n"
          ]
        },
        {
          "data": {
            "image/png": "[encoded data removed]",
            "text/plain": [
              "<Figure size 432x288 with 1 Axes>"
            ]
          },
          "metadata": {},
          "output_type": "display_data"
        },
        {
          "data": {
            "image/png": "[encoded data removed]",
            "text/plain": [
              "<Figure size 432x288 with 1 Axes>"
            ]
          },
          "metadata": {},
          "output_type": "display_data"
        },
        {
          "name": "stdout",
          "output_type": "stream",
          "text": [
            "Training...\n"
          ]
        },
        {
          "name": "stderr",
          "output_type": "stream",
          "text": [
            "100%|██████████| 469/469 [00:27<00:00, 16.92it/s]\n"
          ]
        },
        {
          "name": "stdout",
          "output_type": "stream",
          "text": [
            "Epoch 1 of 20 - Training loss: 545.625, train accuracy: 10.692%\n",
            "Test loss: 2.304\n",
            "Test accuracy: 11.350%\n"
          ]
        },
        {
          "name": "stderr",
          "output_type": "stream",
          "text": [
            "100%|██████████| 469/469 [00:27<00:00, 16.93it/s]\n"
          ]
        },
        {
          "name": "stdout",
          "output_type": "stream",
          "text": [
            "Epoch 2 of 20 - Training loss: 2.305, train accuracy: 10.710%\n",
            "Test loss: 2.306\n",
            "Test accuracy: 9.560%\n"
          ]
        },
        {
          "name": "stderr",
          "output_type": "stream",
          "text": [
            "100%|██████████| 469/469 [00:27<00:00, 17.01it/s]\n"
          ]
        },
        {
          "name": "stdout",
          "output_type": "stream",
          "text": [
            "Epoch 3 of 20 - Training loss: 2.306, train accuracy: 10.405%\n",
            "Test loss: 2.306\n",
            "Test accuracy: 10.280%\n"
          ]
        },
        {
          "name": "stderr",
          "output_type": "stream",
          "text": [
            "100%|██████████| 469/469 [00:27<00:00, 17.21it/s]\n"
          ]
        },
        {
          "name": "stdout",
          "output_type": "stream",
          "text": [
            "Epoch 4 of 20 - Training loss: 2.307, train accuracy: 10.402%\n",
            "Test loss: 2.321\n",
            "Test accuracy: 10.110%\n"
          ]
        },
        {
          "name": "stderr",
          "output_type": "stream",
          "text": [
            "100%|██████████| 469/469 [00:27<00:00, 16.99it/s]\n"
          ]
        },
        {
          "name": "stdout",
          "output_type": "stream",
          "text": [
            "Epoch 5 of 20 - Training loss: 2.307, train accuracy: 10.373%\n",
            "Test loss: 2.307\n",
            "Test accuracy: 11.350%\n"
          ]
        },
        {
          "name": "stderr",
          "output_type": "stream",
          "text": [
            "100%|██████████| 469/469 [00:27<00:00, 16.93it/s]\n"
          ]
        },
        {
          "name": "stdout",
          "output_type": "stream",
          "text": [
            "Epoch 6 of 20 - Training loss: 2.307, train accuracy: 10.400%\n",
            "Test loss: 2.316\n",
            "Test accuracy: 11.350%\n"
          ]
        },
        {
          "name": "stderr",
          "output_type": "stream",
          "text": [
            "100%|██████████| 469/469 [00:27<00:00, 16.92it/s]\n"
          ]
        },
        {
          "name": "stdout",
          "output_type": "stream",
          "text": [
            "Epoch 7 of 20 - Training loss: 2.308, train accuracy: 10.388%\n",
            "Test loss: 2.304\n",
            "Test accuracy: 10.100%\n"
          ]
        },
        {
          "name": "stderr",
          "output_type": "stream",
          "text": [
            "100%|██████████| 469/469 [00:27<00:00, 17.09it/s]\n"
          ]
        },
        {
          "name": "stdout",
          "output_type": "stream",
          "text": [
            "Epoch 8 of 20 - Training loss: 2.308, train accuracy: 10.257%\n",
            "Test loss: 2.318\n",
            "Test accuracy: 10.290%\n"
          ]
        },
        {
          "name": "stderr",
          "output_type": "stream",
          "text": [
            "100%|██████████| 469/469 [00:27<00:00, 17.22it/s]\n"
          ]
        },
        {
          "name": "stdout",
          "output_type": "stream",
          "text": [
            "Epoch 9 of 20 - Training loss: 2.307, train accuracy: 10.495%\n",
            "Test loss: 2.314\n",
            "Test accuracy: 9.750%\n"
          ]
        },
        {
          "name": "stderr",
          "output_type": "stream",
          "text": [
            "100%|██████████| 469/469 [00:27<00:00, 16.91it/s]\n"
          ]
        },
        {
          "name": "stdout",
          "output_type": "stream",
          "text": [
            "Epoch 10 of 20 - Training loss: 2.307, train accuracy: 10.375%\n",
            "Test loss: 2.320\n",
            "Test accuracy: 9.830%\n"
          ]
        },
        {
          "name": "stderr",
          "output_type": "stream",
          "text": [
            "100%|██████████| 469/469 [00:27<00:00, 16.93it/s]\n"
          ]
        },
        {
          "name": "stdout",
          "output_type": "stream",
          "text": [
            "Epoch 11 of 20 - Training loss: 2.308, train accuracy: 10.473%\n",
            "Test loss: 2.311\n",
            "Test accuracy: 9.570%\n"
          ]
        },
        {
          "name": "stderr",
          "output_type": "stream",
          "text": [
            "100%|██████████| 469/469 [00:27<00:00, 16.94it/s]\n"
          ]
        },
        {
          "name": "stdout",
          "output_type": "stream",
          "text": [
            "Epoch 12 of 20 - Training loss: 2.307, train accuracy: 10.417%\n",
            "Test loss: 2.306\n",
            "Test accuracy: 10.100%\n"
          ]
        },
        {
          "name": "stderr",
          "output_type": "stream",
          "text": [
            "100%|██████████| 469/469 [00:27<00:00, 17.18it/s]\n"
          ]
        },
        {
          "name": "stdout",
          "output_type": "stream",
          "text": [
            "Epoch 13 of 20 - Training loss: 2.308, train accuracy: 10.480%\n",
            "Test loss: 2.315\n",
            "Test accuracy: 11.360%\n"
          ]
        },
        {
          "name": "stderr",
          "output_type": "stream",
          "text": [
            "100%|██████████| 469/469 [00:27<00:00, 17.18it/s]\n"
          ]
        },
        {
          "name": "stdout",
          "output_type": "stream",
          "text": [
            "Epoch 14 of 20 - Training loss: 2.307, train accuracy: 10.470%\n",
            "Test loss: 2.307\n",
            "Test accuracy: 10.320%\n"
          ]
        },
        {
          "name": "stderr",
          "output_type": "stream",
          "text": [
            "100%|██████████| 469/469 [00:27<00:00, 16.94it/s]\n"
          ]
        },
        {
          "name": "stdout",
          "output_type": "stream",
          "text": [
            "Epoch 15 of 20 - Training loss: 2.307, train accuracy: 10.305%\n",
            "Test loss: 2.306\n",
            "Test accuracy: 9.570%\n"
          ]
        },
        {
          "name": "stderr",
          "output_type": "stream",
          "text": [
            "100%|██████████| 469/469 [00:27<00:00, 16.92it/s]\n"
          ]
        },
        {
          "name": "stdout",
          "output_type": "stream",
          "text": [
            "Epoch 16 of 20 - Training loss: 2.308, train accuracy: 10.353%\n",
            "Test loss: 2.319\n",
            "Test accuracy: 11.360%\n"
          ]
        },
        {
          "name": "stderr",
          "output_type": "stream",
          "text": [
            "100%|██████████| 469/469 [00:27<00:00, 16.94it/s]\n"
          ]
        },
        {
          "name": "stdout",
          "output_type": "stream",
          "text": [
            "Epoch 17 of 20 - Training loss: 2.307, train accuracy: 10.575%\n",
            "Test loss: 2.309\n",
            "Test accuracy: 11.360%\n"
          ]
        },
        {
          "name": "stderr",
          "output_type": "stream",
          "text": [
            "100%|██████████| 469/469 [00:27<00:00, 17.19it/s]\n"
          ]
        },
        {
          "name": "stdout",
          "output_type": "stream",
          "text": [
            "Epoch 18 of 20 - Training loss: 2.308, train accuracy: 10.295%\n",
            "Test loss: 2.303\n",
            "Test accuracy: 11.350%\n"
          ]
        },
        {
          "name": "stderr",
          "output_type": "stream",
          "text": [
            "100%|██████████| 469/469 [00:27<00:00, 17.07it/s]\n"
          ]
        },
        {
          "name": "stdout",
          "output_type": "stream",
          "text": [
            "Epoch 19 of 20 - Training loss: 2.308, train accuracy: 10.252%\n",
            "Test loss: 2.306\n",
            "Test accuracy: 10.330%\n"
          ]
        },
        {
          "name": "stderr",
          "output_type": "stream",
          "text": [
            "100%|██████████| 469/469 [00:27<00:00, 17.08it/s]\n"
          ]
        },
        {
          "name": "stdout",
          "output_type": "stream",
          "text": [
            "Epoch 20 of 20 - Training loss: 2.307, train accuracy: 10.515%\n",
            "Test loss: 2.305\n",
            "Test accuracy: 10.090%\n",
            "Finished Training\n"
          ]
        },
        {
          "data": {
            "image/png": "[encoded data removed]",
            "text/plain": [
              "<Figure size 432x288 with 1 Axes>"
            ]
          },
          "metadata": {},
          "output_type": "display_data"
        },
        {
          "data": {
            "image/png": "[encoded data removed]",
            "text/plain": [
              "<Figure size 432x288 with 1 Axes>"
            ]
          },
          "metadata": {},
          "output_type": "display_data"
        },
        {
          "name": "stdout",
          "output_type": "stream",
          "text": [
            "Training...\n"
          ]
        },
        {
          "name": "stderr",
          "output_type": "stream",
          "text": [
            "100%|██████████| 469/469 [00:26<00:00, 17.68it/s]\n"
          ]
        },
        {
          "name": "stdout",
          "output_type": "stream",
          "text": [
            "Epoch 1 of 20 - Training loss: 2.937, train accuracy: 46.257%\n",
            "Test loss: 0.788\n",
            "Test accuracy: 78.500%\n"
          ]
        },
        {
          "name": "stderr",
          "output_type": "stream",
          "text": [
            "100%|██████████| 469/469 [00:26<00:00, 17.75it/s]\n"
          ]
        },
        {
          "name": "stdout",
          "output_type": "stream",
          "text": [
            "Epoch 2 of 20 - Training loss: 0.231, train accuracy: 94.137%\n",
            "Test loss: 0.109\n",
            "Test accuracy: 97.070%\n"
          ]
        },
        {
          "name": "stderr",
          "output_type": "stream",
          "text": [
            "100%|██████████| 469/469 [00:26<00:00, 17.65it/s]\n"
          ]
        },
        {
          "name": "stdout",
          "output_type": "stream",
          "text": [
            "Epoch 3 of 20 - Training loss: 0.111, train accuracy: 97.350%\n",
            "Test loss: 0.066\n",
            "Test accuracy: 98.500%\n"
          ]
        },
        {
          "name": "stderr",
          "output_type": "stream",
          "text": [
            "100%|██████████| 469/469 [00:26<00:00, 17.59it/s]\n"
          ]
        },
        {
          "name": "stdout",
          "output_type": "stream",
          "text": [
            "Epoch 4 of 20 - Training loss: 0.083, train accuracy: 98.062%\n",
            "Test loss: 0.053\n",
            "Test accuracy: 98.670%\n"
          ]
        },
        {
          "name": "stderr",
          "output_type": "stream",
          "text": [
            "100%|██████████| 469/469 [00:26<00:00, 17.58it/s]\n"
          ]
        },
        {
          "name": "stdout",
          "output_type": "stream",
          "text": [
            "Epoch 5 of 20 - Training loss: 0.078, train accuracy: 98.295%\n",
            "Test loss: 0.061\n",
            "Test accuracy: 98.540%\n"
          ]
        },
        {
          "name": "stderr",
          "output_type": "stream",
          "text": [
            "100%|██████████| 469/469 [00:26<00:00, 17.74it/s]\n"
          ]
        },
        {
          "name": "stdout",
          "output_type": "stream",
          "text": [
            "Epoch 6 of 20 - Training loss: 0.065, train accuracy: 98.653%\n",
            "Test loss: 0.044\n",
            "Test accuracy: 99.150%\n"
          ]
        },
        {
          "name": "stderr",
          "output_type": "stream",
          "text": [
            "100%|██████████| 469/469 [00:26<00:00, 17.92it/s]\n"
          ]
        },
        {
          "name": "stdout",
          "output_type": "stream",
          "text": [
            "Epoch 7 of 20 - Training loss: 0.062, train accuracy: 98.750%\n",
            "Test loss: 0.034\n",
            "Test accuracy: 99.200%\n"
          ]
        },
        {
          "name": "stderr",
          "output_type": "stream",
          "text": [
            "100%|██████████| 469/469 [00:26<00:00, 17.57it/s]\n"
          ]
        },
        {
          "name": "stdout",
          "output_type": "stream",
          "text": [
            "Epoch 8 of 20 - Training loss: 0.041, train accuracy: 99.122%\n",
            "Test loss: 0.024\n",
            "Test accuracy: 99.410%\n"
          ]
        },
        {
          "name": "stderr",
          "output_type": "stream",
          "text": [
            "100%|██████████| 469/469 [00:26<00:00, 17.54it/s]\n"
          ]
        },
        {
          "name": "stdout",
          "output_type": "stream",
          "text": [
            "Epoch 9 of 20 - Training loss: 0.037, train accuracy: 99.137%\n",
            "Test loss: 0.028\n",
            "Test accuracy: 99.250%\n"
          ]
        },
        {
          "name": "stderr",
          "output_type": "stream",
          "text": [
            "100%|██████████| 469/469 [00:26<00:00, 17.57it/s]\n"
          ]
        },
        {
          "name": "stdout",
          "output_type": "stream",
          "text": [
            "Epoch 10 of 20 - Training loss: 0.031, train accuracy: 99.267%\n",
            "Test loss: 0.043\n",
            "Test accuracy: 99.220%\n"
          ]
        },
        {
          "name": "stderr",
          "output_type": "stream",
          "text": [
            "100%|██████████| 469/469 [00:26<00:00, 17.90it/s]\n"
          ]
        },
        {
          "name": "stdout",
          "output_type": "stream",
          "text": [
            "Epoch 11 of 20 - Training loss: 0.051, train accuracy: 99.218%\n",
            "Test loss: 0.058\n",
            "Test accuracy: 98.790%\n"
          ]
        },
        {
          "name": "stderr",
          "output_type": "stream",
          "text": [
            "100%|██████████| 469/469 [00:26<00:00, 17.63it/s]\n"
          ]
        },
        {
          "name": "stdout",
          "output_type": "stream",
          "text": [
            "Epoch 12 of 20 - Training loss: 0.054, train accuracy: 99.307%\n",
            "Test loss: 0.040\n",
            "Test accuracy: 99.100%\n"
          ]
        },
        {
          "name": "stderr",
          "output_type": "stream",
          "text": [
            "100%|██████████| 469/469 [00:26<00:00, 17.60it/s]\n"
          ]
        },
        {
          "name": "stdout",
          "output_type": "stream",
          "text": [
            "Epoch 13 of 20 - Training loss: 0.036, train accuracy: 99.435%\n",
            "Test loss: 0.032\n",
            "Test accuracy: 99.370%\n"
          ]
        },
        {
          "name": "stderr",
          "output_type": "stream",
          "text": [
            "100%|██████████| 469/469 [00:26<00:00, 17.65it/s]\n"
          ]
        },
        {
          "name": "stdout",
          "output_type": "stream",
          "text": [
            "Epoch 14 of 20 - Training loss: 0.032, train accuracy: 99.373%\n",
            "Test loss: 0.040\n",
            "Test accuracy: 99.290%\n"
          ]
        },
        {
          "name": "stderr",
          "output_type": "stream",
          "text": [
            "100%|██████████| 469/469 [00:26<00:00, 17.90it/s]\n"
          ]
        },
        {
          "name": "stdout",
          "output_type": "stream",
          "text": [
            "Epoch 15 of 20 - Training loss: 0.020, train accuracy: 99.560%\n",
            "Test loss: 0.052\n",
            "Test accuracy: 99.100%\n"
          ]
        },
        {
          "name": "stderr",
          "output_type": "stream",
          "text": [
            "100%|██████████| 469/469 [00:26<00:00, 17.67it/s]\n"
          ]
        },
        {
          "name": "stdout",
          "output_type": "stream",
          "text": [
            "Epoch 16 of 20 - Training loss: 0.096, train accuracy: 99.408%\n",
            "Test loss: 0.035\n",
            "Test accuracy: 99.340%\n"
          ]
        },
        {
          "name": "stderr",
          "output_type": "stream",
          "text": [
            "100%|██████████| 469/469 [00:26<00:00, 17.62it/s]\n"
          ]
        },
        {
          "name": "stdout",
          "output_type": "stream",
          "text": [
            "Epoch 17 of 20 - Training loss: 0.016, train accuracy: 99.605%\n",
            "Test loss: 0.031\n",
            "Test accuracy: 99.390%\n"
          ]
        },
        {
          "name": "stderr",
          "output_type": "stream",
          "text": [
            "100%|██████████| 469/469 [00:26<00:00, 17.57it/s]\n"
          ]
        },
        {
          "name": "stdout",
          "output_type": "stream",
          "text": [
            "Epoch 18 of 20 - Training loss: 0.018, train accuracy: 99.595%\n",
            "Test loss: 0.046\n",
            "Test accuracy: 99.290%\n"
          ]
        },
        {
          "name": "stderr",
          "output_type": "stream",
          "text": [
            "100%|██████████| 469/469 [00:26<00:00, 17.89it/s]\n"
          ]
        },
        {
          "name": "stdout",
          "output_type": "stream",
          "text": [
            "Epoch 19 of 20 - Training loss: 0.028, train accuracy: 99.505%\n",
            "Test loss: 0.029\n",
            "Test accuracy: 99.460%\n"
          ]
        },
        {
          "name": "stderr",
          "output_type": "stream",
          "text": [
            "100%|██████████| 469/469 [00:26<00:00, 17.55it/s]\n"
          ]
        },
        {
          "name": "stdout",
          "output_type": "stream",
          "text": [
            "Epoch 20 of 20 - Training loss: 0.014, train accuracy: 99.647%\n",
            "Test loss: 0.045\n",
            "Test accuracy: 99.310%\n",
            "Finished Training\n"
          ]
        },
        {
          "data": {
            "image/png": "[encoded data removed]",
            "text/plain": [
              "<Figure size 432x288 with 1 Axes>"
            ]
          },
          "metadata": {},
          "output_type": "display_data"
        },
        {
          "data": {
            "image/png": "[encoded data removed]",
            "text/plain": [
              "<Figure size 432x288 with 1 Axes>"
            ]
          },
          "metadata": {},
          "output_type": "display_data"
        },
        {
          "name": "stdout",
          "output_type": "stream",
          "text": [
            "Training...\n"
          ]
        },
        {
          "name": "stderr",
          "output_type": "stream",
          "text": [
            "100%|██████████| 469/469 [00:28<00:00, 16.57it/s]\n"
          ]
        },
        {
          "name": "stdout",
          "output_type": "stream",
          "text": [
            "Epoch 1 of 20 - Training loss: 0.466, train accuracy: 82.935%\n",
            "Test loss: 0.092\n",
            "Test accuracy: 97.580%\n"
          ]
        },
        {
          "name": "stderr",
          "output_type": "stream",
          "text": [
            "100%|██████████| 469/469 [00:28<00:00, 16.62it/s]\n"
          ]
        },
        {
          "name": "stdout",
          "output_type": "stream",
          "text": [
            "Epoch 2 of 20 - Training loss: 0.080, train accuracy: 97.967%\n",
            "Test loss: 0.120\n",
            "Test accuracy: 97.520%\n"
          ]
        },
        {
          "name": "stderr",
          "output_type": "stream",
          "text": [
            "100%|██████████| 469/469 [00:28<00:00, 16.72it/s]\n"
          ]
        },
        {
          "name": "stdout",
          "output_type": "stream",
          "text": [
            "Epoch 3 of 20 - Training loss: 0.064, train accuracy: 98.517%\n",
            "Test loss: 0.150\n",
            "Test accuracy: 96.570%\n"
          ]
        },
        {
          "name": "stderr",
          "output_type": "stream",
          "text": [
            "100%|██████████| 469/469 [00:27<00:00, 16.88it/s]\n"
          ]
        },
        {
          "name": "stdout",
          "output_type": "stream",
          "text": [
            "Epoch 4 of 20 - Training loss: 0.062, train accuracy: 98.635%\n",
            "Test loss: 0.044\n",
            "Test accuracy: 99.010%\n"
          ]
        },
        {
          "name": "stderr",
          "output_type": "stream",
          "text": [
            "100%|██████████| 469/469 [00:28<00:00, 16.65it/s]\n"
          ]
        },
        {
          "name": "stdout",
          "output_type": "stream",
          "text": [
            "Epoch 5 of 20 - Training loss: 0.055, train accuracy: 98.813%\n",
            "Test loss: 0.051\n",
            "Test accuracy: 98.950%\n"
          ]
        },
        {
          "name": "stderr",
          "output_type": "stream",
          "text": [
            "100%|██████████| 469/469 [00:28<00:00, 16.63it/s]\n"
          ]
        },
        {
          "name": "stdout",
          "output_type": "stream",
          "text": [
            "Epoch 6 of 20 - Training loss: 0.049, train accuracy: 98.947%\n",
            "Test loss: 0.039\n",
            "Test accuracy: 99.020%\n"
          ]
        },
        {
          "name": "stderr",
          "output_type": "stream",
          "text": [
            "100%|██████████| 469/469 [00:28<00:00, 16.59it/s]\n"
          ]
        },
        {
          "name": "stdout",
          "output_type": "stream",
          "text": [
            "Epoch 7 of 20 - Training loss: 0.032, train accuracy: 99.252%\n",
            "Test loss: 0.053\n",
            "Test accuracy: 98.980%\n"
          ]
        },
        {
          "name": "stderr",
          "output_type": "stream",
          "text": [
            "100%|██████████| 469/469 [00:28<00:00, 16.65it/s]\n"
          ]
        },
        {
          "name": "stdout",
          "output_type": "stream",
          "text": [
            "Epoch 8 of 20 - Training loss: 0.032, train accuracy: 99.317%\n",
            "Test loss: 0.039\n",
            "Test accuracy: 99.230%\n"
          ]
        },
        {
          "name": "stderr",
          "output_type": "stream",
          "text": [
            "100%|██████████| 469/469 [00:27<00:00, 16.87it/s]\n"
          ]
        },
        {
          "name": "stdout",
          "output_type": "stream",
          "text": [
            "Epoch 9 of 20 - Training loss: 0.028, train accuracy: 99.318%\n",
            "Test loss: 0.032\n",
            "Test accuracy: 99.270%\n"
          ]
        },
        {
          "name": "stderr",
          "output_type": "stream",
          "text": [
            "100%|██████████| 469/469 [00:28<00:00, 16.66it/s]\n"
          ]
        },
        {
          "name": "stdout",
          "output_type": "stream",
          "text": [
            "Epoch 10 of 20 - Training loss: 0.051, train accuracy: 99.070%\n",
            "Test loss: 0.063\n",
            "Test accuracy: 98.780%\n"
          ]
        },
        {
          "name": "stderr",
          "output_type": "stream",
          "text": [
            "100%|██████████| 469/469 [00:28<00:00, 16.60it/s]\n"
          ]
        },
        {
          "name": "stdout",
          "output_type": "stream",
          "text": [
            "Epoch 11 of 20 - Training loss: 0.032, train accuracy: 99.225%\n",
            "Test loss: 0.032\n",
            "Test accuracy: 99.280%\n"
          ]
        },
        {
          "name": "stderr",
          "output_type": "stream",
          "text": [
            "100%|██████████| 469/469 [00:28<00:00, 16.64it/s]\n"
          ]
        },
        {
          "name": "stdout",
          "output_type": "stream",
          "text": [
            "Epoch 12 of 20 - Training loss: 0.021, train accuracy: 99.558%\n",
            "Test loss: 0.029\n",
            "Test accuracy: 99.260%\n"
          ]
        },
        {
          "name": "stderr",
          "output_type": "stream",
          "text": [
            "100%|██████████| 469/469 [00:28<00:00, 16.61it/s]\n"
          ]
        },
        {
          "name": "stdout",
          "output_type": "stream",
          "text": [
            "Epoch 13 of 20 - Training loss: 0.019, train accuracy: 99.588%\n",
            "Test loss: 0.042\n",
            "Test accuracy: 99.310%\n"
          ]
        },
        {
          "name": "stderr",
          "output_type": "stream",
          "text": [
            "100%|██████████| 469/469 [00:27<00:00, 16.86it/s]\n"
          ]
        },
        {
          "name": "stdout",
          "output_type": "stream",
          "text": [
            "Epoch 14 of 20 - Training loss: 0.027, train accuracy: 99.425%\n",
            "Test loss: 0.028\n",
            "Test accuracy: 99.390%\n"
          ]
        },
        {
          "name": "stderr",
          "output_type": "stream",
          "text": [
            "100%|██████████| 469/469 [00:28<00:00, 16.62it/s]\n"
          ]
        },
        {
          "name": "stdout",
          "output_type": "stream",
          "text": [
            "Epoch 15 of 20 - Training loss: 0.014, train accuracy: 99.642%\n",
            "Test loss: 0.032\n",
            "Test accuracy: 99.380%\n"
          ]
        },
        {
          "name": "stderr",
          "output_type": "stream",
          "text": [
            "100%|██████████| 469/469 [00:28<00:00, 16.60it/s]\n"
          ]
        },
        {
          "name": "stdout",
          "output_type": "stream",
          "text": [
            "Epoch 16 of 20 - Training loss: 0.014, train accuracy: 99.678%\n",
            "Test loss: 0.064\n",
            "Test accuracy: 98.890%\n"
          ]
        },
        {
          "name": "stderr",
          "output_type": "stream",
          "text": [
            "100%|██████████| 469/469 [00:28<00:00, 16.60it/s]\n"
          ]
        },
        {
          "name": "stdout",
          "output_type": "stream",
          "text": [
            "Epoch 17 of 20 - Training loss: 0.016, train accuracy: 99.580%\n",
            "Test loss: 0.025\n",
            "Test accuracy: 99.490%\n"
          ]
        },
        {
          "name": "stderr",
          "output_type": "stream",
          "text": [
            "100%|██████████| 469/469 [00:28<00:00, 16.61it/s]\n"
          ]
        },
        {
          "name": "stdout",
          "output_type": "stream",
          "text": [
            "Epoch 18 of 20 - Training loss: 0.011, train accuracy: 99.718%\n",
            "Test loss: 0.044\n",
            "Test accuracy: 99.280%\n"
          ]
        },
        {
          "name": "stderr",
          "output_type": "stream",
          "text": [
            "100%|██████████| 469/469 [00:27<00:00, 16.85it/s]\n"
          ]
        },
        {
          "name": "stdout",
          "output_type": "stream",
          "text": [
            "Epoch 19 of 20 - Training loss: 0.018, train accuracy: 99.592%\n",
            "Test loss: 0.045\n",
            "Test accuracy: 99.290%\n"
          ]
        },
        {
          "name": "stderr",
          "output_type": "stream",
          "text": [
            "100%|██████████| 469/469 [00:28<00:00, 16.66it/s]\n"
          ]
        },
        {
          "name": "stdout",
          "output_type": "stream",
          "text": [
            "Epoch 20 of 20 - Training loss: 0.026, train accuracy: 99.522%\n",
            "Test loss: 0.032\n",
            "Test accuracy: 99.210%\n",
            "Finished Training\n"
          ]
        },
        {
          "data": {
            "image/png": "[encoded data removed]",
            "text/plain": [
              "<Figure size 432x288 with 1 Axes>"
            ]
          },
          "metadata": {},
          "output_type": "display_data"
        },
        {
          "data": {
            "image/png": "[encoded data removed]",
            "text/plain": [
              "<Figure size 432x288 with 1 Axes>"
            ]
          },
          "metadata": {},
          "output_type": "display_data"
        },
        {
          "name": "stdout",
          "output_type": "stream",
          "text": [
            "Training...\n"
          ]
        },
        {
          "name": "stderr",
          "output_type": "stream",
          "text": [
            "100%|██████████| 469/469 [00:25<00:00, 18.18it/s]\n"
          ]
        },
        {
          "name": "stdout",
          "output_type": "stream",
          "text": [
            "Epoch 1 of 20 - Training loss: 2.498, train accuracy: 10.923%\n",
            "Test loss: 2.303\n",
            "Test accuracy: 10.090%\n"
          ]
        },
        {
          "name": "stderr",
          "output_type": "stream",
          "text": [
            "100%|██████████| 469/469 [00:25<00:00, 18.21it/s]\n"
          ]
        },
        {
          "name": "stdout",
          "output_type": "stream",
          "text": [
            "Epoch 2 of 20 - Training loss: 2.303, train accuracy: 10.942%\n",
            "Test loss: 2.302\n",
            "Test accuracy: 11.350%\n"
          ]
        },
        {
          "name": "stderr",
          "output_type": "stream",
          "text": [
            "100%|██████████| 469/469 [00:25<00:00, 18.55it/s]\n"
          ]
        },
        {
          "name": "stdout",
          "output_type": "stream",
          "text": [
            "Epoch 3 of 20 - Training loss: 2.303, train accuracy: 10.722%\n",
            "Test loss: 2.302\n",
            "Test accuracy: 11.350%\n"
          ]
        },
        {
          "name": "stderr",
          "output_type": "stream",
          "text": [
            "100%|██████████| 469/469 [00:25<00:00, 18.31it/s]\n"
          ]
        },
        {
          "name": "stdout",
          "output_type": "stream",
          "text": [
            "Epoch 4 of 20 - Training loss: 2.303, train accuracy: 10.822%\n",
            "Test loss: 2.303\n",
            "Test accuracy: 11.350%\n"
          ]
        },
        {
          "name": "stderr",
          "output_type": "stream",
          "text": [
            "100%|██████████| 469/469 [00:25<00:00, 18.26it/s]\n"
          ]
        },
        {
          "name": "stdout",
          "output_type": "stream",
          "text": [
            "Epoch 5 of 20 - Training loss: 2.303, train accuracy: 10.875%\n",
            "Test loss: 2.303\n",
            "Test accuracy: 11.350%\n"
          ]
        },
        {
          "name": "stderr",
          "output_type": "stream",
          "text": [
            "100%|██████████| 469/469 [00:25<00:00, 18.18it/s]\n"
          ]
        },
        {
          "name": "stdout",
          "output_type": "stream",
          "text": [
            "Epoch 6 of 20 - Training loss: 2.303, train accuracy: 10.907%\n",
            "Test loss: 2.302\n",
            "Test accuracy: 11.350%\n"
          ]
        },
        {
          "name": "stderr",
          "output_type": "stream",
          "text": [
            "100%|██████████| 469/469 [00:25<00:00, 18.55it/s]\n"
          ]
        },
        {
          "name": "stdout",
          "output_type": "stream",
          "text": [
            "Epoch 7 of 20 - Training loss: 2.303, train accuracy: 10.903%\n",
            "Test loss: 2.303\n",
            "Test accuracy: 9.740%\n"
          ]
        },
        {
          "name": "stderr",
          "output_type": "stream",
          "text": [
            "100%|██████████| 469/469 [00:25<00:00, 18.14it/s]\n"
          ]
        },
        {
          "name": "stdout",
          "output_type": "stream",
          "text": [
            "Epoch 8 of 20 - Training loss: 2.303, train accuracy: 10.665%\n",
            "Test loss: 2.303\n",
            "Test accuracy: 10.100%\n"
          ]
        },
        {
          "name": "stderr",
          "output_type": "stream",
          "text": [
            "100%|██████████| 469/469 [00:25<00:00, 18.24it/s]\n"
          ]
        },
        {
          "name": "stdout",
          "output_type": "stream",
          "text": [
            "Epoch 9 of 20 - Training loss: 2.303, train accuracy: 10.803%\n",
            "Test loss: 2.302\n",
            "Test accuracy: 9.800%\n"
          ]
        },
        {
          "name": "stderr",
          "output_type": "stream",
          "text": [
            "100%|██████████| 469/469 [00:25<00:00, 18.23it/s]\n"
          ]
        },
        {
          "name": "stdout",
          "output_type": "stream",
          "text": [
            "Epoch 10 of 20 - Training loss: 2.303, train accuracy: 10.770%\n",
            "Test loss: 2.301\n",
            "Test accuracy: 11.350%\n"
          ]
        },
        {
          "name": "stderr",
          "output_type": "stream",
          "text": [
            "100%|██████████| 469/469 [00:25<00:00, 18.55it/s]\n"
          ]
        },
        {
          "name": "stdout",
          "output_type": "stream",
          "text": [
            "Epoch 11 of 20 - Training loss: 2.303, train accuracy: 10.832%\n",
            "Test loss: 2.302\n",
            "Test accuracy: 11.350%\n"
          ]
        },
        {
          "name": "stderr",
          "output_type": "stream",
          "text": [
            "100%|██████████| 469/469 [00:25<00:00, 18.16it/s]\n"
          ]
        },
        {
          "name": "stdout",
          "output_type": "stream",
          "text": [
            "Epoch 12 of 20 - Training loss: 2.303, train accuracy: 10.917%\n",
            "Test loss: 2.302\n",
            "Test accuracy: 11.350%\n"
          ]
        },
        {
          "name": "stderr",
          "output_type": "stream",
          "text": [
            "100%|██████████| 469/469 [00:25<00:00, 18.22it/s]\n"
          ]
        },
        {
          "name": "stdout",
          "output_type": "stream",
          "text": [
            "Epoch 13 of 20 - Training loss: 2.303, train accuracy: 10.838%\n",
            "Test loss: 2.304\n",
            "Test accuracy: 10.100%\n"
          ]
        },
        {
          "name": "stderr",
          "output_type": "stream",
          "text": [
            "100%|██████████| 469/469 [00:25<00:00, 18.23it/s]\n"
          ]
        },
        {
          "name": "stdout",
          "output_type": "stream",
          "text": [
            "Epoch 14 of 20 - Training loss: 2.303, train accuracy: 10.833%\n",
            "Test loss: 2.302\n",
            "Test accuracy: 10.100%\n"
          ]
        },
        {
          "name": "stderr",
          "output_type": "stream",
          "text": [
            "100%|██████████| 469/469 [00:25<00:00, 18.55it/s]\n"
          ]
        },
        {
          "name": "stdout",
          "output_type": "stream",
          "text": [
            "Epoch 15 of 20 - Training loss: 2.303, train accuracy: 10.700%\n",
            "Test loss: 2.304\n",
            "Test accuracy: 9.580%\n"
          ]
        },
        {
          "name": "stderr",
          "output_type": "stream",
          "text": [
            "100%|██████████| 469/469 [00:25<00:00, 18.23it/s]\n"
          ]
        },
        {
          "name": "stdout",
          "output_type": "stream",
          "text": [
            "Epoch 16 of 20 - Training loss: 2.303, train accuracy: 10.995%\n",
            "Test loss: 2.304\n",
            "Test accuracy: 10.100%\n"
          ]
        },
        {
          "name": "stderr",
          "output_type": "stream",
          "text": [
            "100%|██████████| 469/469 [00:25<00:00, 18.20it/s]\n"
          ]
        },
        {
          "name": "stdout",
          "output_type": "stream",
          "text": [
            "Epoch 17 of 20 - Training loss: 2.303, train accuracy: 10.748%\n",
            "Test loss: 2.304\n",
            "Test accuracy: 10.090%\n"
          ]
        },
        {
          "name": "stderr",
          "output_type": "stream",
          "text": [
            "100%|██████████| 469/469 [00:25<00:00, 18.37it/s]\n"
          ]
        },
        {
          "name": "stdout",
          "output_type": "stream",
          "text": [
            "Epoch 18 of 20 - Training loss: 2.303, train accuracy: 10.862%\n",
            "Test loss: 2.301\n",
            "Test accuracy: 11.350%\n"
          ]
        },
        {
          "name": "stderr",
          "output_type": "stream",
          "text": [
            "100%|██████████| 469/469 [00:25<00:00, 18.59it/s]\n"
          ]
        },
        {
          "name": "stdout",
          "output_type": "stream",
          "text": [
            "Epoch 19 of 20 - Training loss: 2.303, train accuracy: 10.788%\n",
            "Test loss: 2.304\n",
            "Test accuracy: 9.820%\n"
          ]
        },
        {
          "name": "stderr",
          "output_type": "stream",
          "text": [
            "100%|██████████| 469/469 [00:25<00:00, 18.14it/s]\n"
          ]
        },
        {
          "name": "stdout",
          "output_type": "stream",
          "text": [
            "Epoch 20 of 20 - Training loss: 2.303, train accuracy: 10.985%\n",
            "Test loss: 2.303\n",
            "Test accuracy: 10.280%\n",
            "Finished Training\n"
          ]
        },
        {
          "data": {
            "image/png": "[encoded data removed]",
            "text/plain": [
              "<Figure size 432x288 with 1 Axes>"
            ]
          },
          "metadata": {},
          "output_type": "display_data"
        },
        {
          "data": {
            "image/png": "[encoded data removed]",
            "text/plain": [
              "<Figure size 432x288 with 1 Axes>"
            ]
          },
          "metadata": {},
          "output_type": "display_data"
        },
        {
          "name": "stdout",
          "output_type": "stream",
          "text": [
            "Training...\n"
          ]
        },
        {
          "name": "stderr",
          "output_type": "stream",
          "text": [
            "100%|██████████| 469/469 [00:25<00:00, 18.28it/s]\n"
          ]
        },
        {
          "name": "stdout",
          "output_type": "stream",
          "text": [
            "Epoch 1 of 20 - Training loss: 0.341, train accuracy: 88.513%\n",
            "Test loss: 0.130\n",
            "Test accuracy: 96.190%\n"
          ]
        },
        {
          "name": "stderr",
          "output_type": "stream",
          "text": [
            "100%|██████████| 469/469 [00:25<00:00, 18.37it/s]\n"
          ]
        },
        {
          "name": "stdout",
          "output_type": "stream",
          "text": [
            "Epoch 2 of 20 - Training loss: 0.055, train accuracy: 98.518%\n",
            "Test loss: 0.058\n",
            "Test accuracy: 98.410%\n"
          ]
        },
        {
          "name": "stderr",
          "output_type": "stream",
          "text": [
            "100%|██████████| 469/469 [00:25<00:00, 18.61it/s]\n"
          ]
        },
        {
          "name": "stdout",
          "output_type": "stream",
          "text": [
            "Epoch 3 of 20 - Training loss: 0.036, train accuracy: 99.035%\n",
            "Test loss: 0.028\n",
            "Test accuracy: 99.250%\n"
          ]
        },
        {
          "name": "stderr",
          "output_type": "stream",
          "text": [
            "100%|██████████| 469/469 [00:25<00:00, 18.30it/s]\n"
          ]
        },
        {
          "name": "stdout",
          "output_type": "stream",
          "text": [
            "Epoch 4 of 20 - Training loss: 0.027, train accuracy: 99.213%\n",
            "Test loss: 0.029\n",
            "Test accuracy: 99.290%\n"
          ]
        },
        {
          "name": "stderr",
          "output_type": "stream",
          "text": [
            "100%|██████████| 469/469 [00:25<00:00, 18.25it/s]\n"
          ]
        },
        {
          "name": "stdout",
          "output_type": "stream",
          "text": [
            "Epoch 5 of 20 - Training loss: 0.022, train accuracy: 99.388%\n",
            "Test loss: 0.039\n",
            "Test accuracy: 99.030%\n"
          ]
        },
        {
          "name": "stderr",
          "output_type": "stream",
          "text": [
            "100%|██████████| 469/469 [00:25<00:00, 18.54it/s]\n"
          ]
        },
        {
          "name": "stdout",
          "output_type": "stream",
          "text": [
            "Epoch 6 of 20 - Training loss: 0.018, train accuracy: 99.487%\n",
            "Test loss: 0.031\n",
            "Test accuracy: 99.260%\n"
          ]
        },
        {
          "name": "stderr",
          "output_type": "stream",
          "text": [
            "100%|██████████| 469/469 [00:25<00:00, 18.54it/s]\n"
          ]
        },
        {
          "name": "stdout",
          "output_type": "stream",
          "text": [
            "Epoch 7 of 20 - Training loss: 0.015, train accuracy: 99.567%\n",
            "Test loss: 0.021\n",
            "Test accuracy: 99.390%\n"
          ]
        },
        {
          "name": "stderr",
          "output_type": "stream",
          "text": [
            "100%|██████████| 469/469 [00:25<00:00, 18.25it/s]\n"
          ]
        },
        {
          "name": "stdout",
          "output_type": "stream",
          "text": [
            "Epoch 8 of 20 - Training loss: 0.011, train accuracy: 99.697%\n",
            "Test loss: 0.026\n",
            "Test accuracy: 99.250%\n"
          ]
        },
        {
          "name": "stderr",
          "output_type": "stream",
          "text": [
            "100%|██████████| 469/469 [00:25<00:00, 18.25it/s]\n"
          ]
        },
        {
          "name": "stdout",
          "output_type": "stream",
          "text": [
            "Epoch 9 of 20 - Training loss: 0.011, train accuracy: 99.710%\n",
            "Test loss: 0.036\n",
            "Test accuracy: 99.080%\n"
          ]
        },
        {
          "name": "stderr",
          "output_type": "stream",
          "text": [
            "100%|██████████| 469/469 [00:25<00:00, 18.60it/s]\n"
          ]
        },
        {
          "name": "stdout",
          "output_type": "stream",
          "text": [
            "Epoch 10 of 20 - Training loss: 0.009, train accuracy: 99.738%\n",
            "Test loss: 0.059\n",
            "Test accuracy: 98.560%\n"
          ]
        },
        {
          "name": "stderr",
          "output_type": "stream",
          "text": [
            "100%|██████████| 469/469 [00:25<00:00, 18.60it/s]\n"
          ]
        },
        {
          "name": "stdout",
          "output_type": "stream",
          "text": [
            "Epoch 11 of 20 - Training loss: 0.009, train accuracy: 99.743%\n",
            "Test loss: 0.029\n",
            "Test accuracy: 99.320%\n"
          ]
        },
        {
          "name": "stderr",
          "output_type": "stream",
          "text": [
            "100%|██████████| 469/469 [00:25<00:00, 18.35it/s]\n"
          ]
        },
        {
          "name": "stdout",
          "output_type": "stream",
          "text": [
            "Epoch 12 of 20 - Training loss: 0.008, train accuracy: 99.775%\n",
            "Test loss: 0.022\n",
            "Test accuracy: 99.460%\n"
          ]
        },
        {
          "name": "stderr",
          "output_type": "stream",
          "text": [
            "100%|██████████| 469/469 [00:25<00:00, 18.45it/s]\n"
          ]
        },
        {
          "name": "stdout",
          "output_type": "stream",
          "text": [
            "Epoch 13 of 20 - Training loss: 0.007, train accuracy: 99.805%\n",
            "Test loss: 0.027\n",
            "Test accuracy: 99.360%\n"
          ]
        },
        {
          "name": "stderr",
          "output_type": "stream",
          "text": [
            "100%|██████████| 469/469 [00:25<00:00, 18.70it/s]\n"
          ]
        },
        {
          "name": "stdout",
          "output_type": "stream",
          "text": [
            "Epoch 14 of 20 - Training loss: 0.007, train accuracy: 99.792%\n",
            "Test loss: 0.023\n",
            "Test accuracy: 99.400%\n"
          ]
        },
        {
          "name": "stderr",
          "output_type": "stream",
          "text": [
            "100%|██████████| 469/469 [00:25<00:00, 18.65it/s]\n"
          ]
        },
        {
          "name": "stdout",
          "output_type": "stream",
          "text": [
            "Epoch 15 of 20 - Training loss: 0.005, train accuracy: 99.845%\n",
            "Test loss: 0.024\n",
            "Test accuracy: 99.530%\n"
          ]
        },
        {
          "name": "stderr",
          "output_type": "stream",
          "text": [
            "100%|██████████| 469/469 [00:25<00:00, 18.46it/s]\n"
          ]
        },
        {
          "name": "stdout",
          "output_type": "stream",
          "text": [
            "Epoch 16 of 20 - Training loss: 0.004, train accuracy: 99.873%\n",
            "Test loss: 0.043\n",
            "Test accuracy: 98.810%\n"
          ]
        },
        {
          "name": "stderr",
          "output_type": "stream",
          "text": [
            "100%|██████████| 469/469 [00:25<00:00, 18.53it/s]\n"
          ]
        },
        {
          "name": "stdout",
          "output_type": "stream",
          "text": [
            "Epoch 17 of 20 - Training loss: 0.005, train accuracy: 99.848%\n",
            "Test loss: 0.019\n",
            "Test accuracy: 99.620%\n"
          ]
        },
        {
          "name": "stderr",
          "output_type": "stream",
          "text": [
            "100%|██████████| 469/469 [00:25<00:00, 18.73it/s]\n"
          ]
        },
        {
          "name": "stdout",
          "output_type": "stream",
          "text": [
            "Epoch 18 of 20 - Training loss: 0.003, train accuracy: 99.912%\n",
            "Test loss: 0.028\n",
            "Test accuracy: 99.470%\n"
          ]
        },
        {
          "name": "stderr",
          "output_type": "stream",
          "text": [
            "100%|██████████| 469/469 [00:24<00:00, 18.77it/s]\n"
          ]
        },
        {
          "name": "stdout",
          "output_type": "stream",
          "text": [
            "Epoch 19 of 20 - Training loss: 0.005, train accuracy: 99.845%\n",
            "Test loss: 0.021\n",
            "Test accuracy: 99.470%\n"
          ]
        },
        {
          "name": "stderr",
          "output_type": "stream",
          "text": [
            "100%|██████████| 469/469 [00:25<00:00, 18.55it/s]\n"
          ]
        },
        {
          "name": "stdout",
          "output_type": "stream",
          "text": [
            "Epoch 20 of 20 - Training loss: 0.004, train accuracy: 99.892%\n",
            "Test loss: 0.024\n",
            "Test accuracy: 99.450%\n",
            "Finished Training\n"
          ]
        },
        {
          "data": {
            "image/png": "[encoded data removed]",
            "text/plain": [
              "<Figure size 432x288 with 1 Axes>"
            ]
          },
          "metadata": {},
          "output_type": "display_data"
        },
        {
          "data": {
            "image/png": "[encoded data removed]",
            "text/plain": [
              "<Figure size 432x288 with 1 Axes>"
            ]
          },
          "metadata": {},
          "output_type": "display_data"
        }
      ],
      "source": [
        "NUM_EPOCHS = 20\n",
        "LEARNING_RATE = 0.1\n",
        "BATCH_SIZE = 128\n",
        "path = '/content/drive/MyDrive/'\n",
        "\n",
        "transforms = torchvision.transforms.Compose([\n",
        "    torchvision.transforms.Resize((32, 32)),\n",
        "    torchvision.transforms.ToTensor()\n",
        "])\n",
        "\n",
        "mnist_trainset = datasets.MNIST(root='./data', train=True, download=True, transform=transforms)\n",
        "mnist_testset = datasets.MNIST(root='./data', train=False, download=True, transform=transforms)\n",
        "device = torch.device(\"cuda:0\" if torch.cuda.is_available() else \"cpu\")\n",
        "train_loader = torch.utils.data.DataLoader(mnist_trainset, batch_size=BATCH_SIZE, shuffle=True)\n",
        "test_loader = torch.utils.data.DataLoader(mnist_testset, batch_size=BATCH_SIZE, shuffle=True)\n",
        "criterion = nn.CrossEntropyLoss()\n",
        "\n",
        "vgg11 = Net()\n",
        "vgg11.to(device)\n",
        "\n",
        "optimizer = torch.optim.SGD(vgg11.parameters(), lr=0.1, momentum=0.9)\n",
        "results_train = train(vgg11, train_loader, test_loader, optimizer, criterion, device, num_epochs=NUM_EPOCHS)\n",
        "store_results(\"vgg1\", results_train, path)\n",
        "\n",
        "\n",
        "vgg11 = Net()\n",
        "vgg11.to(device)\n",
        "\n",
        "optimizer = torch.optim.SGD(vgg11.parameters(), lr=0.01, momentum=0.9)\n",
        "results_train = train(vgg11, train_loader, test_loader, optimizer, criterion, device, num_epochs=NUM_EPOCHS)\n",
        "store_results(\"vgg2\", results_train, path)\n",
        "\n",
        "vgg11 = Net()\n",
        "vgg11.to(device)\n",
        "optimizer = torch.optim.RMSprop(vgg11.parameters(), lr=0.1, momentum=0.9)\n",
        "results_train = train(vgg11, train_loader, test_loader, optimizer, criterion, device, num_epochs=NUM_EPOCHS)\n",
        "store_results(\"vgg3\", results_train, path)\n",
        "\n",
        "\n",
        "vgg11 = Net()\n",
        "vgg11.to(device)\n",
        "optimizer = torch.optim.Adam(vgg11.parameters(), lr=0.1)\n",
        "results_train = train(vgg11, train_loader, test_loader, optimizer, criterion, device, num_epochs=NUM_EPOCHS)\n",
        "store_results(\"vgg4\", results_train, path)\n",
        "\n",
        "vgg11 = Net()\n",
        "vgg11.to(device)\n",
        "optimizer = torch.optim.RMSprop(vgg11.parameters(), lr=0.001)\n",
        "results_train = train(vgg11, train_loader, test_loader, optimizer, criterion, device, num_epochs=NUM_EPOCHS)\n",
        "store_results(\"vgg5\", results_train, path)\n",
        "\n",
        "vgg11 = Net()\n",
        "vgg11.to(device)\n",
        "optimizer = torch.optim.Adam(vgg11.parameters(), lr=0.001)\n",
        "results_train = train(vgg11, train_loader, test_loader, optimizer, criterion, device, num_epochs=NUM_EPOCHS)\n",
        "store_results(\"vgg6\", results_train, path)\n",
        "\n",
        "vgg11 = SigmoidNet()\n",
        "vgg11.to(device)\n",
        "optimizer = torch.optim.SGD(vgg11.parameters(), lr=0.1, momentum=0.9)\n",
        "results_train = train(vgg11, train_loader, test_loader, optimizer, criterion, device, num_epochs=NUM_EPOCHS)\n",
        "store_results(\"vgg7\", results_train, path)\n",
        "\n",
        "vgg11 = NoDropOutNet()\n",
        "vgg11.to(device)\n",
        "optimizer = torch.optim.SGD(vgg11.parameters(), lr=0.1, momentum=0.9)\n",
        "results_train = train(vgg11, train_loader, test_loader, optimizer, criterion, device, num_epochs=NUM_EPOCHS)\n",
        "store_results(\"vgg8\", results_train, path)\n",
        "\n"
      ]
    },
    {
      "cell_type": "code",
      "execution_count": null,
      "metadata": {
        "id": "utpBkr6p5AF3"
      },
      "outputs": [],
      "source": []
    },
    {
      "cell_type": "code",
      "execution_count": null,
      "metadata": {
        "id": "_Bz8vKPOMwog"
      },
      "outputs": [],
      "source": []
    },
    {
      "cell_type": "code",
      "execution_count": null,
      "metadata": {
        "colab": {
          "base_uri": "https://localhost:8080/"
        },
        "id": "5_Au7u7pBVxO",
        "outputId": "1c998760-0d29-466f-ebe5-ad796f8ca488"
      },
      "outputs": [
        {
          "name": "stdout",
          "output_type": "stream",
          "text": [
            "/content\n"
          ]
        }
      ],
      "source": [
        "!pwd"
      ]
    },
    {
      "cell_type": "code",
      "execution_count": null,
      "metadata": {
        "colab": {
          "base_uri": "https://localhost:8080/",
          "height": 573
        },
        "id": "GO0hoJmFM5qv",
        "outputId": "c4060260-a0e0-433e-c255-56fbda830225"
      },
      "outputs": [
        {
          "data": {
            "image/png": "[encoded data removed]",
            "text/plain": [
              "<Figure size 432x288 with 1 Axes>"
            ]
          },
          "metadata": {},
          "output_type": "display_data"
        },
        {
          "data": {
            "image/png": "[encoded data removed]",
            "text/plain": [
              "<Figure size 432x288 with 1 Axes>"
            ]
          },
          "metadata": {},
          "output_type": "display_data"
        }
      ],
      "source": [
        "def plot_results_limit(results, filename, title):\n",
        "    plt.plot(results['train_accuracy'], '-o', label='train accuracy')\n",
        "    plt.plot(results['test_accuracy'], '-o', label='test accuracy')\n",
        "    plt.title(title + ' Accuracy')\n",
        "    plt.xlabel('Epoch')\n",
        "    plt.ylabel('Accuracy')\n",
        "    plt.legend()\n",
        "    plt.savefig('accuracy_' + filename)\n",
        "    plt.show()\n",
        "\n",
        "\n",
        "    plt.plot(results['train_loss'], '-o', label='train loss')\n",
        "    plt.plot(results['test_loss'], '-o', label='test loss')\n",
        "    plt.title(title + ' Loss')\n",
        "    plt.xlabel('Epoch')\n",
        "    plt.ylabel('Loss')\n",
        "    plt.ylim([0, 50])\n",
        "    plt.legend()\n",
        "    plt.savefig('loss_' + filename)\n",
        "    plt.show()\n",
        "plot_results_limit(results, 'a4_ex1.png', title='VGG-11')\n"
      ]
    },
    {
      "cell_type": "code",
      "execution_count": null,
      "metadata": {
        "colab": {
          "base_uri": "https://localhost:8080/"
        },
        "id": "QK-fZAwtsaLp",
        "outputId": "98a067bd-f497-4914-da41-1ff7e8df7857"
      },
      "outputs": [
        {
          "name": "stdout",
          "output_type": "stream",
          "text": [
            "Horizontal flip\n",
            "Test accuracy: 41.850%\n",
            "Vertical flip\n",
            "Test accuracy: 44.370%\n"
          ]
        },
        {
          "data": {
            "text/plain": [
              "{'accuracy': 0.4437, 'loss': 0.0}"
            ]
          },
          "execution_count": 12,
          "metadata": {},
          "output_type": "execute_result"
        }
      ],
      "source": [
        "transforms_horizontal_flip = torchvision.transforms.Compose([\n",
        "        torchvision.transforms.Resize((32, 32)),\n",
        "        torchvision.transforms.RandomHorizontalFlip(p=1),\n",
        "        torchvision.transforms.ToTensor()\n",
        "    ])\n",
        "\n",
        "mnist_testset_horizontal_flip = datasets.MNIST(root='./data', train=False, download=True, transform=transforms_horizontal_flip)\n",
        "mnist_testloader_horizontal_flip = torch.utils.data.DataLoader(mnist_testset_horizontal_flip, batch_size=BATCH_SIZE, shuffle=True)\n",
        "print(\"Horizontal flip\")\n",
        "collect_metrics(vgg11, mnist_testloader_horizontal_flip, device)\n",
        "\n",
        "# vertical flip\n",
        "transforms_vertical_flip = torchvision.transforms.Compose([\n",
        "    torchvision.transforms.Resize((32, 32)),\n",
        "    torchvision.transforms.RandomVerticalFlip(p=1),\n",
        "    torchvision.transforms.ToTensor()\n",
        "])\n",
        "\n",
        "mnist_testset_vertical_flip = datasets.MNIST(root='./data', train=False, download=True, transform=transforms_vertical_flip)\n",
        "mnist_testloader_vertical_flip = torch.utils.data.DataLoader(mnist_testset_vertical_flip, batch_size=BATCH_SIZE,\n",
        "                                                                shuffle=True)\n",
        "print(\"Vertical flip\")\n",
        "collect_metrics(vgg11, mnist_testloader_vertical_flip, device)"
      ]
    },
    {
      "cell_type": "code",
      "execution_count": null,
      "metadata": {
        "colab": {
          "base_uri": "https://localhost:8080/"
        },
        "id": "kYDz1ntOzic9",
        "outputId": "db9bcb17-de9a-4572-8cf6-f2ecae4bf4f9"
      },
      "outputs": [
        {
          "name": "stdout",
          "output_type": "stream",
          "text": [
            "Gaussian blur\n",
            "Test accuracy: 97.630%\n"
          ]
        },
        {
          "data": {
            "text/plain": [
              "{'accuracy': 0.9763, 'loss': 0.0}"
            ]
          },
          "execution_count": 13,
          "metadata": {},
          "output_type": "execute_result"
        }
      ],
      "source": [
        "transforms_gaussian_blur = torchvision.transforms.Compose([\n",
        "        torchvision.transforms.Resize((32, 32)),\n",
        "        torchvision.transforms.GaussianBlur(kernel_size=5, sigma=(1.0, 3.0)),\n",
        "        torchvision.transforms.ToTensor()\n",
        "    ])\n",
        "\n",
        "mnist_testset_gaussian_blur = datasets.MNIST(root='./data', train=False, download=True, transform=transforms_gaussian_blur)\n",
        "mnist_testloader_gaussian_blur = torch.utils.data.DataLoader(mnist_testset_gaussian_blur, batch_size=BATCH_SIZE,\n",
        "                                                              shuffle=True)\n",
        "print(\"Gaussian blur\")\n",
        "collect_metrics(vgg11, mnist_testloader_gaussian_blur, device)"
      ]
    },
    {
      "cell_type": "code",
      "execution_count": null,
      "metadata": {
        "colab": {
          "base_uri": "https://localhost:8080/",
          "height": 1000
        },
        "id": "m9CmvCoWxXfK",
        "outputId": "504f388c-0c2a-4a10-cd61-f72bd20cf486"
      },
      "outputs": [
        {
          "name": "stdout",
          "output_type": "stream",
          "text": [
            "7\n"
          ]
        },
        {
          "data": {
            "image/png": "[encoded data removed]",
            "text/plain": [
              "<Figure size 432x288 with 1 Axes>"
            ]
          },
          "metadata": {},
          "output_type": "display_data"
        },
        {
          "name": "stdout",
          "output_type": "stream",
          "text": [
            "2\n"
          ]
        },
        {
          "data": {
            "image/png": "[encoded data removed]",
            "text/plain": [
              "<Figure size 432x288 with 1 Axes>"
            ]
          },
          "metadata": {},
          "output_type": "display_data"
        },
        {
          "name": "stdout",
          "output_type": "stream",
          "text": [
            "1\n"
          ]
        },
        {
          "data": {
            "image/png": "[encoded data removed]",
            "text/plain": [
              "<Figure size 432x288 with 1 Axes>"
            ]
          },
          "metadata": {},
          "output_type": "display_data"
        },
        {
          "name": "stdout",
          "output_type": "stream",
          "text": [
            "0\n"
          ]
        },
        {
          "data": {
            "image/png": "[encoded data removed]",
            "text/plain": [
              "<Figure size 432x288 with 1 Axes>"
            ]
          },
          "metadata": {},
          "output_type": "display_data"
        },
        {
          "name": "stdout",
          "output_type": "stream",
          "text": [
            "4\n"
          ]
        },
        {
          "data": {
            "image/png": "[encoded data removed]",
            "text/plain": [
              "<Figure size 432x288 with 1 Axes>"
            ]
          },
          "metadata": {},
          "output_type": "display_data"
        },
        {
          "name": "stdout",
          "output_type": "stream",
          "text": [
            "1\n"
          ]
        },
        {
          "data": {
            "image/png": "[encoded data removed]",
            "text/plain": [
              "<Figure size 432x288 with 1 Axes>"
            ]
          },
          "metadata": {},
          "output_type": "display_data"
        },
        {
          "name": "stdout",
          "output_type": "stream",
          "text": [
            "4\n"
          ]
        },
        {
          "data": {
            "image/png": "[encoded data removed]",
            "text/plain": [
              "<Figure size 432x288 with 1 Axes>"
            ]
          },
          "metadata": {},
          "output_type": "display_data"
        },
        {
          "name": "stdout",
          "output_type": "stream",
          "text": [
            "9\n"
          ]
        },
        {
          "data": {
            "image/png": "[encoded data removed]",
            "text/plain": [
              "<Figure size 432x288 with 1 Axes>"
            ]
          },
          "metadata": {},
          "output_type": "display_data"
        },
        {
          "name": "stdout",
          "output_type": "stream",
          "text": [
            "5\n"
          ]
        },
        {
          "data": {
            "image/png": "[encoded data removed]",
            "text/plain": [
              "<Figure size 432x288 with 1 Axes>"
            ]
          },
          "metadata": {},
          "output_type": "display_data"
        },
        {
          "name": "stdout",
          "output_type": "stream",
          "text": [
            "9\n"
          ]
        },
        {
          "data": {
            "image/png": "[encoded data removed]",
            "text/plain": [
              "<Figure size 432x288 with 1 Axes>"
            ]
          },
          "metadata": {},
          "output_type": "display_data"
        }
      ],
      "source": [
        "vertical_flip = torchvision.transforms.Compose([\n",
        "    torchvision.transforms.Resize((32, 32)),\n",
        "    torchvision.transforms.RandomVerticalFlip(p=1),\n",
        "])\n",
        "vertical_flipped = datasets.MNIST(root='./data', train=False, download=True, transform=vertical_flip)\n",
        "\n",
        "for i in range(10):\n",
        "  print(vertical_flipped[i][1])\n",
        "  im = vertical_flipped[i][0]\n",
        "  plt.imshow(im)\n",
        "  plt.gray()\n",
        "  plt.show()\n",
        "\n",
        "horizontal_flip = torchvision.transforms.Compose([\n",
        "    torchvision.transforms.Resize((32, 32)),\n",
        "    torchvision.transforms.RandomHorizontalFlip(p=1),\n",
        "])\n",
        "horizontal_flipped = datasets.MNIST(root='./data', train=False, download=True, transform=horizontal_flip)\n",
        "\n",
        "for i in range(10):\n",
        "  print(horizontal_flipped[i][1])\n",
        "  im = horizontal_flipped[i][0]\n",
        "  plt.imshow(im)\n",
        "  plt.gray()\n",
        "  plt.show()\n",
        "\n",
        "gaussian_blur = torchvision.transforms.Compose([\n",
        "    torchvision.transforms.Resize((32, 32)),\n",
        "    torchvision.transforms.GaussianBlur(kernel_size=5, sigma=(1.0, 3.0)),\n",
        "])\n",
        "gaussian_blurred = datasets.MNIST(root='./data', train=False, download=True, transform=gaussian_blur)\n",
        "\n",
        "regular = torchvision.transforms.Compose([\n",
        "    torchvision.transforms.Resize((32, 32)),\n",
        "])\n",
        "regular_loader = datasets.MNIST(root='./data', train=False, download=True, transform=regular)\n",
        "\n",
        "for i in range(10):\n",
        "  print(gaussian_blurred[i][1])\n",
        "  im = gaussian_blurred[i][0]\n",
        "  plt.imshow(im)\n",
        "  plt.gray()\n",
        "  plt.show()\n",
        "  im = regular_loader[i][0]\n",
        "  plt.imshow(im)\n",
        "  plt.gray()\n",
        "  plt.show()"
      ]
    }
  ],
  "metadata": {
    "accelerator": "GPU",
    "colab": {
      "collapsed_sections": [],
      "provenance": []
    },
    "gpuClass": "standard",
    "kernelspec": {
      "display_name": "Python 3",
      "name": "python3"
    },
    "language_info": {
      "name": "python"
    }
  },
  "nbformat": 4,
  "nbformat_minor": 0
}