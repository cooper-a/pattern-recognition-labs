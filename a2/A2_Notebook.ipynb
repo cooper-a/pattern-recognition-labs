{
 "cells": [
  {
   "cell_type": "code",
   "execution_count": 2,
   "id": "4cf44c83",
   "metadata": {},
   "outputs": [],
   "source": [
    "import torchvision.datasets as datasets\n",
    "import numpy as np\n",
    "from sklearn.decomposition import PCA\n",
    "import matplotlib.pyplot as plt\n",
    "import matplotlib.patches as mpatches\n",
    "from pathlib import Path"
   ]
  },
  {
   "cell_type": "code",
   "execution_count": 6,
   "id": "ce962da2",
   "metadata": {},
   "outputs": [],
   "source": [
    "from sklearn.decomposition import PCA\n",
    "import numpy as np\n",
    "import pathlib\n",
    "\n",
    "def prep_mnist(mnist_set, n_components, pca=None):\n",
    "    filtered_mnist_set = []\n",
    "    for image in mnist_set:\n",
    "        if image[1] == 0 or image[1] == 1:\n",
    "            filtered_mnist_set.append(image)\n",
    "\n",
    "    X = [np.asarray(val[0]).flatten() for val in filtered_mnist_set]\n",
    "    Y = [val[1] for val in filtered_mnist_set]\n",
    "    \n",
    "    if not pca:\n",
    "        pca = PCA(n_components=n_components)\n",
    "        X_PC = pca.fit_transform(X)\n",
    "    else:\n",
    "        X_PC = pca.transform(X)\n",
    "    return (X_PC, Y, pca)"
   ]
  },
  {
   "cell_type": "code",
   "execution_count": 9,
   "id": "21df5190",
   "metadata": {},
   "outputs": [],
   "source": [
    "mnist_trainset = datasets.MNIST(root='./data', train=True, download=True, transform=None)\n",
    "mnist_testset = datasets.MNIST(root='./data', train=False, download=True, transform=None)\n",
    "\n",
    "X_PC, Y, pca = prep_mnist(mnist_trainset, 2)\n",
    "X_test_PC, Y_test, _ = prep_mnist(mnist_testset, 2, pca)"
   ]
  },
  {
   "cell_type": "code",
   "execution_count": 54,
   "id": "c1a444d3",
   "metadata": {},
   "outputs": [],
   "source": [
    "X=X_PC\n",
    "Y=Y\n",
    "X0 = np.array([X[i] for i in range(len(X)) if Y[i] == 0])\n",
    "X1 = np.array([X[i] for i in range(len(X)) if Y[i] == 1])\n",
    "mean0 = np.mean(X0, axis=0)\n",
    "mean1 = np.mean(X1, axis=0)\n",
    "covariance0 = np.cov(X0, rowvar=False)\n",
    "covariance1 = np.cov(X1, rowvar=False)"
   ]
  },
  {
   "cell_type": "code",
   "execution_count": 57,
   "id": "c811fda2",
   "metadata": {},
   "outputs": [
    {
     "data": {
      "text/plain": [
       "array([[215286.02496941, -23351.21030259],\n",
       "       [-23351.21030259, 190498.53992741]])"
      ]
     },
     "execution_count": 57,
     "metadata": {},
     "output_type": "execute_result"
    }
   ],
   "source": [
    "covariance0"
   ]
  },
  {
   "cell_type": "code",
   "execution_count": 44,
   "id": "f99951ec",
   "metadata": {},
   "outputs": [
    {
     "ename": "TypeError",
     "evalue": "'numpy.ndarray' object is not callable",
     "output_type": "error",
     "traceback": [
      "\u001b[1;31m---------------------------------------------------------------------------\u001b[0m",
      "\u001b[1;31mTypeError\u001b[0m                                 Traceback (most recent call last)",
      "\u001b[1;32m~\\AppData\\Local\\Temp\\ipykernel_11256\\1316345975.py\u001b[0m in \u001b[0;36m<module>\u001b[1;34m\u001b[0m\n\u001b[1;32m----> 1\u001b[1;33m \u001b[1;33m(\u001b[0m\u001b[0mX0\u001b[0m \u001b[1;33m-\u001b[0m \u001b[0mmean0\u001b[0m\u001b[1;33m)\u001b[0m \u001b[1;33m(\u001b[0m\u001b[0mX0\u001b[0m \u001b[1;33m-\u001b[0m \u001b[0mmean0\u001b[0m\u001b[1;33m)\u001b[0m\u001b[1;33m.\u001b[0m\u001b[0mT\u001b[0m\u001b[1;33m\u001b[0m\u001b[0m\n\u001b[0m",
      "\u001b[1;31mTypeError\u001b[0m: 'numpy.ndarray' object is not callable"
     ]
    }
   ],
   "source": [
    "(X0 - mean0) (X0 - mean0).T"
   ]
  },
  {
   "cell_type": "code",
   "execution_count": null,
   "id": "dcbd9fa4",
   "metadata": {},
   "outputs": [],
   "source": [
    "acum = 0\n",
    "for i in X0.shape[0]:\n",
    "    acum += (X0[0] - mean0) * (X0[0] - mean0).T"
   ]
  },
  {
   "cell_type": "code",
   "execution_count": 46,
   "id": "57b483e6",
   "metadata": {},
   "outputs": [
    {
     "data": {
      "text/plain": [
       "array([ 9154.75288782, 92587.5551902 ])"
      ]
     },
     "execution_count": 46,
     "metadata": {},
     "output_type": "execute_result"
    }
   ],
   "source": [
    "(X0[0] - mean0) * (X0[0] - mean0).T"
   ]
  },
  {
   "cell_type": "code",
   "execution_count": 41,
   "id": "eb6b1d0c",
   "metadata": {},
   "outputs": [
    {
     "data": {
      "text/plain": [
       "(2, 5923)"
      ]
     },
     "execution_count": 41,
     "metadata": {},
     "output_type": "execute_result"
    }
   ],
   "source": [
    "foo.shape"
   ]
  },
  {
   "cell_type": "code",
   "execution_count": 42,
   "id": "f84be244",
   "metadata": {},
   "outputs": [
    {
     "data": {
      "text/plain": [
       "(5923, 2)"
      ]
     },
     "execution_count": 42,
     "metadata": {},
     "output_type": "execute_result"
    }
   ],
   "source": [
    "(X0 - mean0).shape"
   ]
  },
  {
   "cell_type": "code",
   "execution_count": 45,
   "id": "33974818",
   "metadata": {},
   "outputs": [
    {
     "data": {
      "text/plain": [
       "array([1119.66338805,  321.49815688])"
      ]
     },
     "execution_count": 45,
     "metadata": {},
     "output_type": "execute_result"
    }
   ],
   "source": [
    "X0[0]"
   ]
  },
  {
   "cell_type": "code",
   "execution_count": null,
   "id": "cd723361",
   "metadata": {},
   "outputs": [],
   "source": []
  }
 ],
 "metadata": {
  "kernelspec": {
   "display_name": "ml37",
   "language": "python",
   "name": "ml37"
  },
  "language_info": {
   "codemirror_mode": {
    "name": "ipython",
    "version": 3
   },
   "file_extension": ".py",
   "mimetype": "text/x-python",
   "name": "python",
   "nbconvert_exporter": "python",
   "pygments_lexer": "ipython3",
   "version": "3.7.0"
  }
 },
 "nbformat": 4,
 "nbformat_minor": 5
}
