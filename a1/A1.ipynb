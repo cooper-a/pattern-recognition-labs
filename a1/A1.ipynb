{
 "cells": [
  {
   "cell_type": "code",
   "execution_count": 1,
   "id": "6f7616b1",
   "metadata": {},
   "outputs": [
    {
     "name": "stderr",
     "output_type": "stream",
     "text": [
      "C:\\ProgramData\\Miniconda3\\envs\\ml37\\lib\\site-packages\\torchvision\\io\\image.py:13: UserWarning: Failed to load image Python extension: \n",
      "  warn(f\"Failed to load image Python extension: {e}\")\n"
     ]
    }
   ],
   "source": [
    "import torchvision.datasets as datasets\n",
    "import numpy as np\n",
    "from sklearn.decomposition import PCA"
   ]
  },
  {
   "cell_type": "code",
   "execution_count": 2,
   "id": "3179f872",
   "metadata": {},
   "outputs": [],
   "source": [
    "mnist_trainset = datasets.MNIST(root='./data', train=True, download=True, transform=None)"
   ]
  },
  {
   "cell_type": "code",
   "execution_count": 3,
   "id": "3bba035d",
   "metadata": {},
   "outputs": [],
   "source": [
    "filtered_mnist_train = []\n",
    "for image in mnist_trainset:\n",
    "    if image[1] == 0 or image[1] == 1:\n",
    "        filtered_mnist_train.append(image)"
   ]
  },
  {
   "cell_type": "code",
   "execution_count": 4,
   "id": "69d58aeb",
   "metadata": {},
   "outputs": [],
   "source": [
    "X = [np.asarray(val[0]).flatten() for val in filtered_mnist_train]\n",
    "Y = [val[1] for val in filtered_mnist_train]"
   ]
  },
  {
   "cell_type": "code",
   "execution_count": 5,
   "id": "872f95b3",
   "metadata": {},
   "outputs": [],
   "source": [
    "pca = PCA(n_components=2)\n",
    "X_PC = pca.fit_transform(X)"
   ]
  },
  {
   "cell_type": "code",
   "execution_count": 6,
   "id": "70c68dd0",
   "metadata": {},
   "outputs": [
    {
     "data": {
      "text/plain": "(12665, 2)"
     },
     "execution_count": 6,
     "metadata": {},
     "output_type": "execute_result"
    }
   ],
   "source": [
    "X_PC.shape"
   ]
  },
  {
   "cell_type": "code",
   "execution_count": null,
   "id": "6e97aff6",
   "metadata": {},
   "outputs": [],
   "source": []
  },
  {
   "cell_type": "code",
   "execution_count": null,
   "id": "4e84b797",
   "metadata": {},
   "outputs": [],
   "source": []
  }
 ],
 "metadata": {
  "kernelspec": {
   "display_name": "Python 3 (ipykernel)",
   "language": "python",
   "name": "python3"
  },
  "language_info": {
   "codemirror_mode": {
    "name": "ipython",
    "version": 3
   },
   "file_extension": ".py",
   "mimetype": "text/x-python",
   "name": "python",
   "nbconvert_exporter": "python",
   "pygments_lexer": "ipython3",
   "version": "3.7.0"
  }
 },
 "nbformat": 4,
 "nbformat_minor": 5
}
